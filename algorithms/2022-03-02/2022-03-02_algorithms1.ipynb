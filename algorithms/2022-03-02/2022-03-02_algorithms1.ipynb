{
 "cells": [
  {
   "cell_type": "markdown",
   "id": "d4461f0d",
   "metadata": {},
   "source": [
    "# Python Algorithm Practice!"
   ]
  },
  {
   "cell_type": "markdown",
   "id": "7dfcd7c5",
   "metadata": {},
   "source": [
    "# Question 1\n",
    "In this kata you need to check the provided array (x) for good ideas 'good' and bad ideas 'bad'. If there are one or two good ideas, return 'Publish!', if there are more than 2 return 'I smell a series!'. If there are no good ideas, as is often the case, return 'Fail!'.\n",
    "\n",
    "- `well(['bad', 'bad', 'bad'])`\n",
    "    - `'Fail!'`\n",
    "- `well(['good', 'bad', 'bad', 'bad', 'bad'])`\n",
    "    - `'Publish!'`\n",
    "- `well(['good', 'bad', 'bad', 'bad', 'bad', 'good', 'bad', 'bad', 'good'])`\n",
    "    - `'I smell a series!'`"
   ]
  },
  {
   "cell_type": "code",
   "execution_count": 1,
   "id": "3cfbd451",
   "metadata": {
    "ExecuteTime": {
     "end_time": "2022-03-02T22:03:50.444399Z",
     "start_time": "2022-03-02T22:03:50.429624Z"
    }
   },
   "outputs": [],
   "source": [
    "question1_test1 = ['bad', 'bad', 'bad']\n",
    "question1_test2 = ['good', 'bad', 'bad', 'bad', 'bad']\n",
    "question1_test3 = ['good', 'bad', 'bad', 'bad', \n",
    "                   'bad', 'good', 'bad', 'bad', 'good']"
   ]
  },
  {
   "cell_type": "code",
   "execution_count": 2,
   "id": "fd689287",
   "metadata": {
    "ExecuteTime": {
     "end_time": "2022-03-02T22:03:50.450903Z",
     "start_time": "2022-03-02T22:03:50.448183Z"
    }
   },
   "outputs": [],
   "source": [
    "# 3 Outputs: \n",
    "## 0 \"good\" = \"Fail!\"\n",
    "## 1 or 2 \"good\" = \"Publish!\"\n",
    "## >2 \"good\" = \" I smell a series!\""
   ]
  },
  {
   "cell_type": "code",
   "execution_count": 3,
   "id": "5d723e22",
   "metadata": {
    "ExecuteTime": {
     "end_time": "2022-03-02T22:03:50.461451Z",
     "start_time": "2022-03-02T22:03:50.454503Z"
    }
   },
   "outputs": [
    {
     "name": "stdout",
     "output_type": "stream",
     "text": [
      "3\n",
      "I smell a series!\n"
     ]
    }
   ],
   "source": [
    "counter = 0\n",
    "\n",
    "for review in question1_test3:\n",
    "    if review == 'good':\n",
    "        counter += 1 # counter = counter + 1\n",
    "        \n",
    "print(counter)\n",
    "\n",
    "if counter == 0:\n",
    "    print('Fail!')\n",
    "elif 0 < counter < 3: # We'll come back to this when we write our function.\n",
    "    print('Publish!')\n",
    "else:\n",
    "    print('I smell a series!')"
   ]
  },
  {
   "cell_type": "code",
   "execution_count": 4,
   "id": "821372ea",
   "metadata": {
    "ExecuteTime": {
     "end_time": "2022-03-02T22:03:50.468557Z",
     "start_time": "2022-03-02T22:03:50.464410Z"
    },
    "scrolled": true
   },
   "outputs": [],
   "source": [
    "def well(x):\n",
    "    counter = 0\n",
    "\n",
    "    for review in x:\n",
    "        if review == 'good':\n",
    "            counter += 1 # counter = counter + 1\n",
    "\n",
    "    if counter == 0:\n",
    "        return 'Fail!'\n",
    "    elif counter < 3:\n",
    "        return 'Publish!'\n",
    "    \n",
    "    return 'I smell a series!'"
   ]
  },
  {
   "cell_type": "code",
   "execution_count": 5,
   "id": "7e297283",
   "metadata": {
    "ExecuteTime": {
     "end_time": "2022-03-02T22:03:50.479114Z",
     "start_time": "2022-03-02T22:03:50.475243Z"
    }
   },
   "outputs": [
    {
     "name": "stdout",
     "output_type": "stream",
     "text": [
      "['bad', 'bad', 'bad'] Fail!\n",
      "['good', 'bad', 'bad', 'bad', 'bad'] Publish!\n",
      "['good', 'bad', 'bad', 'bad', 'bad', 'good', 'bad', 'bad', 'good'] I smell a series!\n"
     ]
    }
   ],
   "source": [
    "for q in [question1_test1, question1_test2, question1_test3]:\n",
    "    print(q, well(q))"
   ]
  },
  {
   "cell_type": "code",
   "execution_count": 6,
   "id": "70085e76",
   "metadata": {
    "ExecuteTime": {
     "end_time": "2022-03-02T22:03:50.498253Z",
     "start_time": "2022-03-02T22:03:50.483579Z"
    }
   },
   "outputs": [
    {
     "data": {
      "text/plain": [
       "'Fail!'"
      ]
     },
     "execution_count": 6,
     "metadata": {},
     "output_type": "execute_result"
    }
   ],
   "source": [
    "answer = well(question1_test1)\n",
    "answer"
   ]
  },
  {
   "cell_type": "code",
   "execution_count": 7,
   "id": "03c27d2b",
   "metadata": {
    "ExecuteTime": {
     "end_time": "2022-03-02T22:03:50.507937Z",
     "start_time": "2022-03-02T22:03:50.501411Z"
    }
   },
   "outputs": [
    {
     "data": {
      "text/plain": [
       "False"
      ]
     },
     "execution_count": 7,
     "metadata": {},
     "output_type": "execute_result"
    }
   ],
   "source": [
    "answer is None"
   ]
  },
  {
   "cell_type": "code",
   "execution_count": 8,
   "id": "3290e18c",
   "metadata": {
    "ExecuteTime": {
     "end_time": "2022-03-02T22:03:50.515233Z",
     "start_time": "2022-03-02T22:03:50.510443Z"
    }
   },
   "outputs": [
    {
     "data": {
      "text/plain": [
       "'Fail!'"
      ]
     },
     "execution_count": 8,
     "metadata": {},
     "output_type": "execute_result"
    }
   ],
   "source": [
    "answer"
   ]
  },
  {
   "cell_type": "markdown",
   "id": "df6cb53c",
   "metadata": {},
   "source": [
    "# Question 2\n",
    "Given two arrays of integers m and n, test if they contain at least one identical element. Return true if they do; false if not.\n",
    "\n",
    "\n",
    "- `duplicate_elements([1, 2, 3, 4, 5], [1, 6, 7, 8, 9])`\n",
    "    - True\n",
    "\n",
    "- `duplicate_elements([1, 3, 5, 7, 9], [2, 4, 6, 8])`\n",
    "    - False\n",
    "\n",
    "- `duplicate_elements([], [9, 8, 7, 6, 5])`\n",
    "    - False"
   ]
  },
  {
   "cell_type": "code",
   "execution_count": 9,
   "id": "7d2ba811",
   "metadata": {
    "ExecuteTime": {
     "end_time": "2022-03-02T22:03:50.520911Z",
     "start_time": "2022-03-02T22:03:50.517450Z"
    }
   },
   "outputs": [],
   "source": [
    "question2_test1 = [1, 2, 3, 4, 5]\n",
    "question2_test2 = [1, 6, 7, 8, 9]"
   ]
  },
  {
   "cell_type": "code",
   "execution_count": 10,
   "id": "ee4f769f",
   "metadata": {
    "ExecuteTime": {
     "end_time": "2022-03-02T22:03:50.527020Z",
     "start_time": "2022-03-02T22:03:50.523587Z"
    }
   },
   "outputs": [],
   "source": [
    "def question_2(lst_1, lst_2):\n",
    "    for i in lst_1:\n",
    "        for q in lst_2:\n",
    "            if i == q:\n",
    "                return True\n",
    "    return False"
   ]
  },
  {
   "cell_type": "code",
   "execution_count": 11,
   "id": "a07a9ba3",
   "metadata": {
    "ExecuteTime": {
     "end_time": "2022-03-02T22:03:50.535544Z",
     "start_time": "2022-03-02T22:03:50.530195Z"
    }
   },
   "outputs": [
    {
     "data": {
      "text/plain": [
       "True"
      ]
     },
     "execution_count": 11,
     "metadata": {},
     "output_type": "execute_result"
    }
   ],
   "source": [
    "question_2(question2_test1, question2_test2)"
   ]
  },
  {
   "cell_type": "code",
   "execution_count": 12,
   "id": "685973fc",
   "metadata": {
    "ExecuteTime": {
     "end_time": "2022-03-02T22:03:50.544044Z",
     "start_time": "2022-03-02T22:03:50.538725Z"
    }
   },
   "outputs": [
    {
     "data": {
      "text/plain": [
       "False"
      ]
     },
     "execution_count": 12,
     "metadata": {},
     "output_type": "execute_result"
    }
   ],
   "source": [
    "question_2([1,2,3], [4,5,6])"
   ]
  },
  {
   "cell_type": "markdown",
   "id": "491ae686",
   "metadata": {},
   "source": [
    "# Question 3\n",
    "Your car is old, it breaks easily. The shock absorbers are gone and you think it can handle about 15 more bumps before it dies totally.\n",
    "\n",
    "Unfortunately for you, your drive is very bumpy! Given a string showing either flat road (\"_\") or bumps (\"n\"), work out if you make it home safely. 15 bumps or under, return \"Woohoo!\", over 15 bumps return \"Car Dead\".\n",
    "\n",
    "---\n",
    "\n",
    "***Tests***\n",
    "- bumps(\"n\") \n",
    "    - \"Woohoo!\"\n",
    "- bumps(\"\\_nnnnnnn_n__n______nn__nn_nnn\")\n",
    "    - \"Car Dead\"\n",
    "- bumps(\"______n___n_\")\n",
    "    - \"Woohoo!\"\n",
    "- bumps(\"nnnnnnnnnnnnnnnnnnnnn\")\n",
    "    - \"Car Dead\""
   ]
  },
  {
   "cell_type": "code",
   "execution_count": 13,
   "id": "1f7f27c0",
   "metadata": {
    "ExecuteTime": {
     "end_time": "2022-03-02T22:03:50.550609Z",
     "start_time": "2022-03-02T22:03:50.546709Z"
    }
   },
   "outputs": [],
   "source": [
    "question3_test1 = 'n'\n",
    "question3_test2 = '_nnnnnnn_n__n______nn__nn_nnn'\n",
    "question3_test3 = '__n___n_'\n",
    "question3_test4 = '_nnnnnnn_n__n______nn__nn_nnn'"
   ]
  },
  {
   "cell_type": "code",
   "execution_count": 14,
   "id": "c29ce2a1",
   "metadata": {
    "ExecuteTime": {
     "end_time": "2022-03-02T22:03:50.556960Z",
     "start_time": "2022-03-02T22:03:50.553959Z"
    }
   },
   "outputs": [],
   "source": [
    "# if len(string.replace('_', '') > 15):\n",
    "#     print('WooHoo!')"
   ]
  },
  {
   "cell_type": "code",
   "execution_count": 15,
   "id": "d081eddd",
   "metadata": {
    "ExecuteTime": {
     "end_time": "2022-03-02T22:03:50.562845Z",
     "start_time": "2022-03-02T22:03:50.560169Z"
    }
   },
   "outputs": [],
   "source": [
    "# question3_test2.replace('_', '')"
   ]
  },
  {
   "cell_type": "code",
   "execution_count": 16,
   "id": "eb291799",
   "metadata": {
    "ExecuteTime": {
     "end_time": "2022-03-02T22:03:50.569506Z",
     "start_time": "2022-03-02T22:03:50.565168Z"
    }
   },
   "outputs": [],
   "source": [
    "def bumps(x):\n",
    "    counter = 0\n",
    "    for roads in x:\n",
    "        if roads == \"n\":\n",
    "            counter +=1\n",
    "            \n",
    "    if counter <= 15:\n",
    "        return \"Wohooo\"\n",
    "    else:\n",
    "        return \"Car Dead\""
   ]
  },
  {
   "cell_type": "code",
   "execution_count": null,
   "id": "c9fdfd1d",
   "metadata": {
    "ExecuteTime": {
     "end_time": "2022-01-06T01:07:28.957500Z",
     "start_time": "2022-01-06T01:07:28.952518Z"
    }
   },
   "outputs": [],
   "source": []
  },
  {
   "cell_type": "code",
   "execution_count": null,
   "id": "37f37706",
   "metadata": {
    "ExecuteTime": {
     "end_time": "2022-01-06T01:07:28.965013Z",
     "start_time": "2022-01-06T01:07:28.960196Z"
    }
   },
   "outputs": [],
   "source": []
  },
  {
   "cell_type": "code",
   "execution_count": null,
   "id": "38f909e3",
   "metadata": {
    "ExecuteTime": {
     "end_time": "2022-01-06T01:07:28.973850Z",
     "start_time": "2022-01-06T01:07:28.967285Z"
    }
   },
   "outputs": [],
   "source": []
  },
  {
   "cell_type": "code",
   "execution_count": null,
   "id": "45c26e38",
   "metadata": {
    "ExecuteTime": {
     "end_time": "2022-01-06T01:07:28.982604Z",
     "start_time": "2022-01-06T01:07:28.977210Z"
    }
   },
   "outputs": [],
   "source": []
  },
  {
   "cell_type": "code",
   "execution_count": null,
   "id": "de7f78f3",
   "metadata": {
    "ExecuteTime": {
     "end_time": "2022-01-06T01:07:28.988674Z",
     "start_time": "2022-01-06T01:07:28.984755Z"
    }
   },
   "outputs": [],
   "source": []
  },
  {
   "cell_type": "code",
   "execution_count": null,
   "id": "b6e44672",
   "metadata": {},
   "outputs": [],
   "source": []
  }
 ],
 "metadata": {
  "kernelspec": {
   "display_name": "Python [conda env:learn-env] *",
   "language": "python",
   "name": "conda-env-learn-env-py"
  },
  "language_info": {
   "codemirror_mode": {
    "name": "ipython",
    "version": 3
   },
   "file_extension": ".py",
   "mimetype": "text/x-python",
   "name": "python",
   "nbconvert_exporter": "python",
   "pygments_lexer": "ipython3",
   "version": "3.6.9"
  },
  "toc": {
   "base_numbering": 1,
   "nav_menu": {},
   "number_sections": false,
   "sideBar": true,
   "skip_h1_title": false,
   "title_cell": "Table of Contents",
   "title_sidebar": "Contents",
   "toc_cell": false,
   "toc_position": {
    "height": "calc(100% - 180px)",
    "left": "10px",
    "top": "150px",
    "width": "255px"
   },
   "toc_section_display": true,
   "toc_window_display": true
  }
 },
 "nbformat": 4,
 "nbformat_minor": 5
}
