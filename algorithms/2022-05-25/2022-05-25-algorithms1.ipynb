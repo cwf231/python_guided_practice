{
 "cells": [
  {
   "cell_type": "markdown",
   "id": "5f363c78",
   "metadata": {},
   "source": [
    "# Python Algorithm Practice!"
   ]
  },
  {
   "cell_type": "markdown",
   "id": "148d5111",
   "metadata": {},
   "source": [
    "# Question 1\n",
    "\n",
    "## 1.1 \n",
    "- Take a given list of strings and create a new list of **only the leading integers.**\n",
    "    - Using a `for` loop.\n",
    "    - Using a list comprehension."
   ]
  },
  {
   "cell_type": "code",
   "execution_count": 1,
   "id": "f5993f98",
   "metadata": {
    "ExecuteTime": {
     "end_time": "2022-05-25T21:58:19.878884Z",
     "start_time": "2022-05-25T21:58:19.862839Z"
    }
   },
   "outputs": [],
   "source": [
    "question1_lst = [\n",
    "    '1 Worst',\n",
    "    '2 Not Bad',\n",
    "    '3 Getting Better',\n",
    "    '4 Fair',\n",
    "    '5 Decent',\n",
    "    '6 Getting There',\n",
    "    '7 Pretty Good',\n",
    "    '8 Very Good',\n",
    "    '9 Great',\n",
    "    '10 Outstanding'\n",
    "]\n",
    "\n",
    "question1_lst"
   ]
  },
  {
   "cell_type": "code",
   "execution_count": 2,
   "id": "c494a852",
   "metadata": {
    "ExecuteTime": {
     "end_time": "2022-05-25T21:58:19.886859Z",
     "start_time": "2022-05-25T21:58:19.882223Z"
    }
   },
   "outputs": [],
   "source": [
    "# Processing a string.\n",
    "a = '10 Outstanding'\n",
    "a[0] # Indexing - slicing a string."
   ]
  },
  {
   "cell_type": "code",
   "execution_count": 3,
   "id": "74a0eba1",
   "metadata": {
    "ExecuteTime": {
     "end_time": "2022-05-25T21:58:19.893135Z",
     "start_time": "2022-05-25T21:58:19.889383Z"
    }
   },
   "outputs": [],
   "source": [
    "a[:2]"
   ]
  },
  {
   "cell_type": "code",
   "execution_count": 4,
   "id": "5f49a5f6",
   "metadata": {
    "ExecuteTime": {
     "end_time": "2022-05-25T21:58:19.900323Z",
     "start_time": "2022-05-25T21:58:19.895132Z"
    }
   },
   "outputs": [
    {
     "data": {
      "text/plain": [
       "['10', 'Outstanding']"
      ]
     },
     "execution_count": 4,
     "metadata": {},
     "output_type": "execute_result"
    }
   ],
   "source": [
    "# .split()\n",
    "a.split(' ')"
   ]
  },
  {
   "cell_type": "code",
   "execution_count": 5,
   "id": "205e191d",
   "metadata": {
    "ExecuteTime": {
     "end_time": "2022-05-25T21:58:19.911473Z",
     "start_time": "2022-05-25T21:58:19.906859Z"
    }
   },
   "outputs": [
    {
     "data": {
      "text/plain": [
       "['5 D', 'c', 'nt']"
      ]
     },
     "execution_count": 5,
     "metadata": {},
     "output_type": "execute_result"
    }
   ],
   "source": [
    "'5 Decent'.split('e')"
   ]
  },
  {
   "cell_type": "code",
   "execution_count": 6,
   "id": "f9991602",
   "metadata": {
    "ExecuteTime": {
     "end_time": "2022-05-25T21:58:19.920151Z",
     "start_time": "2022-05-25T21:58:19.915826Z"
    }
   },
   "outputs": [
    {
     "data": {
      "text/plain": [
       "['10', 'Outstanding']"
      ]
     },
     "execution_count": 6,
     "metadata": {},
     "output_type": "execute_result"
    }
   ],
   "source": [
    "split_string = a.split()\n",
    "split_string"
   ]
  },
  {
   "cell_type": "code",
   "execution_count": 7,
   "id": "6a3d58ca",
   "metadata": {
    "ExecuteTime": {
     "end_time": "2022-05-25T21:58:19.927571Z",
     "start_time": "2022-05-25T21:58:19.922964Z"
    }
   },
   "outputs": [
    {
     "data": {
      "text/plain": [
       "'10'"
      ]
     },
     "execution_count": 7,
     "metadata": {},
     "output_type": "execute_result"
    }
   ],
   "source": [
    "split_string[0]"
   ]
  },
  {
   "cell_type": "code",
   "execution_count": 8,
   "id": "03f05373",
   "metadata": {
    "ExecuteTime": {
     "end_time": "2022-05-25T21:58:19.933506Z",
     "start_time": "2022-05-25T21:58:19.930587Z"
    }
   },
   "outputs": [],
   "source": [
    "# str int float for in -- Don't save these as variable names."
   ]
  },
  {
   "cell_type": "code",
   "execution_count": 9,
   "id": "c89c4fb7",
   "metadata": {
    "ExecuteTime": {
     "end_time": "2022-05-25T21:58:19.940153Z",
     "start_time": "2022-05-25T21:58:19.935953Z"
    }
   },
   "outputs": [
    {
     "name": "stdout",
     "output_type": "stream",
     "text": [
      "[1, 2, 3, 4, 5, 6, 7, 8, 9, 10]\n"
     ]
    }
   ],
   "source": [
    "# For loop.\n",
    "new_lst = []\n",
    "\n",
    "for s in question1_lst:\n",
    "    split_string = s.split() # Create a list of the string broken up by whitespace.\n",
    "    number = split_string[0] # Extract the first element in the list.\n",
    "    new_lst.append(int(number)) # Add the number to `new_lst`\n",
    "\n",
    "print(new_lst)"
   ]
  },
  {
   "cell_type": "code",
   "execution_count": 10,
   "id": "8460db84",
   "metadata": {
    "ExecuteTime": {
     "end_time": "2022-05-25T21:58:19.945701Z",
     "start_time": "2022-05-25T21:58:19.941873Z"
    }
   },
   "outputs": [
    {
     "data": {
      "text/plain": [
       "2"
      ]
     },
     "execution_count": 10,
     "metadata": {},
     "output_type": "execute_result"
    }
   ],
   "source": [
    "1 + 1"
   ]
  },
  {
   "cell_type": "code",
   "execution_count": 11,
   "id": "fafdee82",
   "metadata": {
    "ExecuteTime": {
     "end_time": "2022-05-25T21:58:19.952880Z",
     "start_time": "2022-05-25T21:58:19.948473Z"
    }
   },
   "outputs": [
    {
     "data": {
      "text/plain": [
       "'11'"
      ]
     },
     "execution_count": 11,
     "metadata": {},
     "output_type": "execute_result"
    }
   ],
   "source": [
    "'1' + '1'"
   ]
  },
  {
   "cell_type": "code",
   "execution_count": 12,
   "id": "1379fa64",
   "metadata": {
    "ExecuteTime": {
     "end_time": "2022-05-25T21:58:19.961789Z",
     "start_time": "2022-05-25T21:58:19.955716Z"
    }
   },
   "outputs": [
    {
     "data": {
      "text/plain": [
       "[1, 2, 3, 4, 5, 6, 7, 8, 9, 10]"
      ]
     },
     "execution_count": 12,
     "metadata": {},
     "output_type": "execute_result"
    }
   ],
   "source": [
    "# List comprehension.\n",
    "[int(s.split()[0]) for s in question1_lst]"
   ]
  },
  {
   "cell_type": "markdown",
   "id": "0387aa66",
   "metadata": {},
   "source": [
    "***List Comprehension Format***\n",
    "```\n",
    "[<THING I want returned> for <THING> in <iterable>]\n",
    "```"
   ]
  },
  {
   "cell_type": "markdown",
   "id": "00a4c801",
   "metadata": {},
   "source": [
    "## 1.2\n",
    "- Take the original list and **create a dictionary** of key value pairs like `{word(s): number}`.\n",
    "    - Using a `for` loop.\n",
    "    - Using dictionary comprehension."
   ]
  },
  {
   "cell_type": "code",
   "execution_count": 13,
   "id": "cb51700b",
   "metadata": {
    "ExecuteTime": {
     "end_time": "2022-05-25T21:58:19.969679Z",
     "start_time": "2022-05-25T21:58:19.964597Z"
    }
   },
   "outputs": [
    {
     "data": {
      "text/plain": [
       "['1 Worst',\n",
       " '2 Not Bad',\n",
       " '3 Getting Better',\n",
       " '4 Fair',\n",
       " '5 Decent',\n",
       " '6 Getting There',\n",
       " '7 Pretty Good',\n",
       " '8 Very Good',\n",
       " '9 Great',\n",
       " '10 Outstanding']"
      ]
     },
     "execution_count": 13,
     "metadata": {},
     "output_type": "execute_result"
    }
   ],
   "source": [
    "question1_lst"
   ]
  },
  {
   "cell_type": "code",
   "execution_count": 14,
   "id": "a642b245",
   "metadata": {
    "ExecuteTime": {
     "end_time": "2022-05-25T21:58:19.977668Z",
     "start_time": "2022-05-25T21:58:19.973221Z"
    },
    "scrolled": true
   },
   "outputs": [
    {
     "data": {
      "text/plain": [
       "{'MY_KEY': 'MY VALUE'}"
      ]
     },
     "execution_count": 14,
     "metadata": {},
     "output_type": "execute_result"
    }
   ],
   "source": [
    "my_dct = {} # dict()\n",
    "my_dct['MY_KEY'] = 'MY VALUE'\n",
    "my_dct"
   ]
  },
  {
   "cell_type": "code",
   "execution_count": 15,
   "id": "21162b5b",
   "metadata": {
    "ExecuteTime": {
     "end_time": "2022-05-25T21:58:19.983703Z",
     "start_time": "2022-05-25T21:58:19.979664Z"
    }
   },
   "outputs": [
    {
     "data": {
      "text/plain": [
       "['3', 'Getting', 'Better']"
      ]
     },
     "execution_count": 15,
     "metadata": {},
     "output_type": "execute_result"
    }
   ],
   "source": [
    "a = '3 Getting Better'\n",
    "split_string = a.split()\n",
    "split_string"
   ]
  },
  {
   "cell_type": "code",
   "execution_count": 16,
   "id": "ff9834ff",
   "metadata": {
    "ExecuteTime": {
     "end_time": "2022-05-25T21:58:19.991388Z",
     "start_time": "2022-05-25T21:58:19.986123Z"
    }
   },
   "outputs": [
    {
     "data": {
      "text/plain": [
       "3"
      ]
     },
     "execution_count": 16,
     "metadata": {},
     "output_type": "execute_result"
    }
   ],
   "source": [
    "number = int(split_string[0])\n",
    "number"
   ]
  },
  {
   "cell_type": "code",
   "execution_count": 17,
   "id": "193caa7d",
   "metadata": {
    "ExecuteTime": {
     "end_time": "2022-05-25T21:58:19.998005Z",
     "start_time": "2022-05-25T21:58:19.993599Z"
    }
   },
   "outputs": [
    {
     "data": {
      "text/plain": [
       "['Getting', 'Better']"
      ]
     },
     "execution_count": 17,
     "metadata": {},
     "output_type": "execute_result"
    }
   ],
   "source": [
    "words_only_lst = split_string[1:]\n",
    "words_only_lst"
   ]
  },
  {
   "cell_type": "code",
   "execution_count": 18,
   "id": "ec2c4111",
   "metadata": {
    "ExecuteTime": {
     "end_time": "2022-05-25T21:58:20.004682Z",
     "start_time": "2022-05-25T21:58:20.000341Z"
    }
   },
   "outputs": [
    {
     "data": {
      "text/plain": [
       "'Getting Better'"
      ]
     },
     "execution_count": 18,
     "metadata": {},
     "output_type": "execute_result"
    }
   ],
   "source": [
    "words = ' '.join(words_only_lst)\n",
    "words"
   ]
  },
  {
   "cell_type": "code",
   "execution_count": 19,
   "id": "f07de61c",
   "metadata": {
    "ExecuteTime": {
     "end_time": "2022-05-25T21:58:20.011139Z",
     "start_time": "2022-05-25T21:58:20.007292Z"
    }
   },
   "outputs": [
    {
     "data": {
      "text/plain": [
       "{'Getting Better': 3}"
      ]
     },
     "execution_count": 19,
     "metadata": {},
     "output_type": "execute_result"
    }
   ],
   "source": [
    "dct = {}\n",
    "dct[words] = number\n",
    "dct"
   ]
  },
  {
   "cell_type": "code",
   "execution_count": 20,
   "id": "427146a2",
   "metadata": {
    "ExecuteTime": {
     "end_time": "2022-05-25T21:58:20.019623Z",
     "start_time": "2022-05-25T21:58:20.013268Z"
    }
   },
   "outputs": [
    {
     "data": {
      "text/plain": [
       "{'Worst': 1,\n",
       " 'Not Bad': 2,\n",
       " 'Getting Better': 3,\n",
       " 'Fair': 4,\n",
       " 'Decent': 5,\n",
       " 'Getting There': 6,\n",
       " 'Pretty Good': 7,\n",
       " 'Very Good': 8,\n",
       " 'Great': 9,\n",
       " 'Outstanding': 10}"
      ]
     },
     "execution_count": 20,
     "metadata": {},
     "output_type": "execute_result"
    }
   ],
   "source": [
    "# For loop.\n",
    "my_dct = {}\n",
    "\n",
    "for s in question1_lst:\n",
    "    split_string = s.split() # Split into parts.\n",
    "    number = int(split_string[0]) # Extract number from index 0.\n",
    "    words_only_lst = split_string[1:] # Extracting the non-number elements.\n",
    "    words = ' '.join(words_only_lst) # Join words in list.\n",
    "    my_dct[words] = number\n",
    "    \n",
    "my_dct"
   ]
  },
  {
   "cell_type": "code",
   "execution_count": 21,
   "id": "51768951",
   "metadata": {
    "ExecuteTime": {
     "end_time": "2022-05-25T21:58:20.030607Z",
     "start_time": "2022-05-25T21:58:20.023475Z"
    }
   },
   "outputs": [
    {
     "data": {
      "text/plain": [
       "{'Worst': 1,\n",
       " 'Not Bad': 2,\n",
       " 'Getting Better': 3,\n",
       " 'Fair': 4,\n",
       " 'Decent': 5,\n",
       " 'Getting There': 6,\n",
       " 'Pretty Good': 7,\n",
       " 'Very Good': 8,\n",
       " 'Great': 9,\n",
       " 'Outstanding': 10}"
      ]
     },
     "execution_count": 21,
     "metadata": {},
     "output_type": "execute_result"
    }
   ],
   "source": [
    "{' '.join(s.split()[1:]): int(s.split()[0]) for s in question1_lst}"
   ]
  },
  {
   "cell_type": "markdown",
   "id": "62ca67c2",
   "metadata": {},
   "source": [
    "## 1.3\n",
    "- Take a **Pandas DataFrame** where there is a column of the same values and create a new column with **only the leading integers.**"
   ]
  },
  {
   "cell_type": "code",
   "execution_count": 22,
   "id": "f51d4c53",
   "metadata": {
    "ExecuteTime": {
     "end_time": "2022-05-25T21:58:20.381630Z",
     "start_time": "2022-05-25T21:58:20.033214Z"
    }
   },
   "outputs": [],
   "source": [
    "import pandas as pd"
   ]
  },
  {
   "cell_type": "code",
   "execution_count": 23,
   "id": "bcc10907",
   "metadata": {
    "ExecuteTime": {
     "end_time": "2022-05-25T21:58:20.397262Z",
     "start_time": "2022-05-25T21:58:20.383278Z"
    }
   },
   "outputs": [
    {
     "data": {
      "text/html": [
       "<div>\n",
       "<style scoped>\n",
       "    .dataframe tbody tr th:only-of-type {\n",
       "        vertical-align: middle;\n",
       "    }\n",
       "\n",
       "    .dataframe tbody tr th {\n",
       "        vertical-align: top;\n",
       "    }\n",
       "\n",
       "    .dataframe thead th {\n",
       "        text-align: right;\n",
       "    }\n",
       "</style>\n",
       "<table border=\"1\" class=\"dataframe\">\n",
       "  <thead>\n",
       "    <tr style=\"text-align: right;\">\n",
       "      <th></th>\n",
       "      <th>a</th>\n",
       "    </tr>\n",
       "  </thead>\n",
       "  <tbody>\n",
       "    <tr>\n",
       "      <th>0</th>\n",
       "      <td>1 Worst</td>\n",
       "    </tr>\n",
       "    <tr>\n",
       "      <th>1</th>\n",
       "      <td>2 Not Bad</td>\n",
       "    </tr>\n",
       "    <tr>\n",
       "      <th>2</th>\n",
       "      <td>3 Getting Better</td>\n",
       "    </tr>\n",
       "    <tr>\n",
       "      <th>3</th>\n",
       "      <td>4 Fair</td>\n",
       "    </tr>\n",
       "    <tr>\n",
       "      <th>4</th>\n",
       "      <td>5 Decent</td>\n",
       "    </tr>\n",
       "    <tr>\n",
       "      <th>5</th>\n",
       "      <td>6 Getting There</td>\n",
       "    </tr>\n",
       "    <tr>\n",
       "      <th>6</th>\n",
       "      <td>7 Pretty Good</td>\n",
       "    </tr>\n",
       "    <tr>\n",
       "      <th>7</th>\n",
       "      <td>8 Very Good</td>\n",
       "    </tr>\n",
       "    <tr>\n",
       "      <th>8</th>\n",
       "      <td>9 Great</td>\n",
       "    </tr>\n",
       "    <tr>\n",
       "      <th>9</th>\n",
       "      <td>10 Outstanding</td>\n",
       "    </tr>\n",
       "  </tbody>\n",
       "</table>\n",
       "</div>"
      ],
      "text/plain": [
       "                  a\n",
       "0           1 Worst\n",
       "1         2 Not Bad\n",
       "2  3 Getting Better\n",
       "3            4 Fair\n",
       "4          5 Decent\n",
       "5   6 Getting There\n",
       "6     7 Pretty Good\n",
       "7       8 Very Good\n",
       "8           9 Great\n",
       "9    10 Outstanding"
      ]
     },
     "execution_count": 23,
     "metadata": {},
     "output_type": "execute_result"
    }
   ],
   "source": [
    "df = pd.DataFrame()\n",
    "df['a'] = question1_lst\n",
    "df"
   ]
  },
  {
   "cell_type": "code",
   "execution_count": null,
   "id": "ac396a64",
   "metadata": {
    "ExecuteTime": {
     "end_time": "2022-01-06T01:07:28.841212Z",
     "start_time": "2022-01-06T01:07:28.835561Z"
    }
   },
   "outputs": [],
   "source": []
  },
  {
   "cell_type": "code",
   "execution_count": null,
   "id": "52f35bdb",
   "metadata": {
    "ExecuteTime": {
     "end_time": "2022-01-06T01:07:28.849127Z",
     "start_time": "2022-01-06T01:07:28.844247Z"
    }
   },
   "outputs": [],
   "source": []
  },
  {
   "cell_type": "code",
   "execution_count": null,
   "id": "b2d14e14",
   "metadata": {
    "ExecuteTime": {
     "end_time": "2022-01-06T01:07:28.856670Z",
     "start_time": "2022-01-06T01:07:28.851213Z"
    }
   },
   "outputs": [],
   "source": []
  },
  {
   "cell_type": "markdown",
   "id": "bcd8d43a",
   "metadata": {},
   "source": [
    "# Question 2\n",
    "Given two arrays of integers m and n, test if they contain at least one identical element. Return true if they do; false if not.\n",
    "\n",
    "\n",
    "- `duplicate_elements([1, 2, 3, 4, 5], [1, 6, 7, 8, 9])`\n",
    "    - True\n",
    "\n",
    "- `duplicate_elements([1, 3, 5, 7, 9], [2, 4, 6, 8])`\n",
    "    - False\n",
    "\n",
    "- `duplicate_elements([], [9, 8, 7, 6, 5])`\n",
    "    - False"
   ]
  },
  {
   "cell_type": "code",
   "execution_count": 24,
   "id": "7f149c3f",
   "metadata": {
    "ExecuteTime": {
     "end_time": "2022-05-25T21:58:20.401768Z",
     "start_time": "2022-05-25T21:58:20.399158Z"
    }
   },
   "outputs": [],
   "source": [
    "question2_test1 = [1, 2, 3, 4, 5]\n",
    "question2_test2 = [1, 6, 7, 8, 9]"
   ]
  },
  {
   "cell_type": "code",
   "execution_count": null,
   "id": "0b58d922",
   "metadata": {
    "ExecuteTime": {
     "end_time": "2022-01-06T01:07:28.869682Z",
     "start_time": "2022-01-06T01:07:28.866085Z"
    }
   },
   "outputs": [],
   "source": []
  },
  {
   "cell_type": "code",
   "execution_count": null,
   "id": "86ae10cd",
   "metadata": {
    "ExecuteTime": {
     "end_time": "2022-01-06T01:07:28.877662Z",
     "start_time": "2022-01-06T01:07:28.872787Z"
    }
   },
   "outputs": [],
   "source": []
  },
  {
   "cell_type": "code",
   "execution_count": null,
   "id": "2f2fe17c",
   "metadata": {
    "ExecuteTime": {
     "end_time": "2022-01-06T01:07:28.885123Z",
     "start_time": "2022-01-06T01:07:28.880882Z"
    }
   },
   "outputs": [],
   "source": []
  },
  {
   "cell_type": "code",
   "execution_count": null,
   "id": "1806edf1",
   "metadata": {
    "ExecuteTime": {
     "end_time": "2022-01-06T01:07:28.893097Z",
     "start_time": "2022-01-06T01:07:28.888272Z"
    }
   },
   "outputs": [],
   "source": []
  },
  {
   "cell_type": "code",
   "execution_count": null,
   "id": "d4e77dd2",
   "metadata": {
    "ExecuteTime": {
     "end_time": "2022-01-06T01:07:28.899089Z",
     "start_time": "2022-01-06T01:07:28.895846Z"
    }
   },
   "outputs": [],
   "source": []
  },
  {
   "cell_type": "code",
   "execution_count": null,
   "id": "b9902f19",
   "metadata": {
    "ExecuteTime": {
     "end_time": "2022-01-06T01:07:28.908624Z",
     "start_time": "2022-01-06T01:07:28.902727Z"
    }
   },
   "outputs": [],
   "source": []
  },
  {
   "cell_type": "code",
   "execution_count": null,
   "id": "623ca652",
   "metadata": {
    "ExecuteTime": {
     "end_time": "2022-01-06T01:07:28.919704Z",
     "start_time": "2022-01-06T01:07:28.911921Z"
    }
   },
   "outputs": [],
   "source": []
  },
  {
   "cell_type": "code",
   "execution_count": null,
   "id": "84bd0175",
   "metadata": {
    "ExecuteTime": {
     "end_time": "2022-01-06T01:07:28.928903Z",
     "start_time": "2022-01-06T01:07:28.922872Z"
    }
   },
   "outputs": [],
   "source": []
  },
  {
   "cell_type": "markdown",
   "id": "a6d8ba36",
   "metadata": {},
   "source": [
    "# Question 3\n",
    "Your car is old, it breaks easily. The shock absorbers are gone and you think it can handle about 15 more bumps before it dies totally.\n",
    "\n",
    "Unfortunately for you, your drive is very bumpy! Given a string showing either flat road (\"_\") or bumps (\"n\"), work out if you make it home safely. 15 bumps or under, return \"Woohoo!\", over 15 bumps return \"Car Dead\".\n",
    "\n",
    "---\n",
    "\n",
    "***Tests***\n",
    "- bumps(\"n\") \n",
    "    - \"Woohoo!\"\n",
    "- bumps(\"\\_nnnnnnn_n__n______nn__nn_nnn\")\n",
    "    - \"Car Dead\"\n",
    "- bumps(\"______n___n_\")\n",
    "    - \"Woohoo!\"\n",
    "- bumps(\"nnnnnnnnnnnnnnnnnnnnn\")\n",
    "    - \"Car Dead\""
   ]
  },
  {
   "cell_type": "code",
   "execution_count": 25,
   "id": "a8830d54",
   "metadata": {
    "ExecuteTime": {
     "end_time": "2022-05-25T21:58:20.406538Z",
     "start_time": "2022-05-25T21:58:20.404112Z"
    }
   },
   "outputs": [],
   "source": [
    "question3_test1 = 'n'\n",
    "question3_test2 = '_nnnnnnn_n__n______nn__nn_nnn'\n",
    "question3_test3 = '__n___n_'\n",
    "question3_test4 = '_nnnnnnn_n__n______nn__nn_nnn'"
   ]
  },
  {
   "cell_type": "code",
   "execution_count": null,
   "id": "cf2e3753",
   "metadata": {
    "ExecuteTime": {
     "end_time": "2022-01-06T01:07:28.944890Z",
     "start_time": "2022-01-06T01:07:28.938994Z"
    }
   },
   "outputs": [],
   "source": []
  },
  {
   "cell_type": "code",
   "execution_count": null,
   "id": "a54233a7",
   "metadata": {
    "ExecuteTime": {
     "end_time": "2022-01-06T01:07:28.950445Z",
     "start_time": "2022-01-06T01:07:28.947006Z"
    }
   },
   "outputs": [],
   "source": []
  },
  {
   "cell_type": "code",
   "execution_count": null,
   "id": "7fe62181",
   "metadata": {
    "ExecuteTime": {
     "end_time": "2022-01-06T01:07:28.957500Z",
     "start_time": "2022-01-06T01:07:28.952518Z"
    }
   },
   "outputs": [],
   "source": []
  },
  {
   "cell_type": "code",
   "execution_count": null,
   "id": "38c62d91",
   "metadata": {
    "ExecuteTime": {
     "end_time": "2022-01-06T01:07:28.965013Z",
     "start_time": "2022-01-06T01:07:28.960196Z"
    }
   },
   "outputs": [],
   "source": []
  },
  {
   "cell_type": "code",
   "execution_count": null,
   "id": "b3d607c0",
   "metadata": {
    "ExecuteTime": {
     "end_time": "2022-01-06T01:07:28.973850Z",
     "start_time": "2022-01-06T01:07:28.967285Z"
    }
   },
   "outputs": [],
   "source": []
  },
  {
   "cell_type": "code",
   "execution_count": null,
   "id": "8275fa5d",
   "metadata": {
    "ExecuteTime": {
     "end_time": "2022-01-06T01:07:28.982604Z",
     "start_time": "2022-01-06T01:07:28.977210Z"
    }
   },
   "outputs": [],
   "source": []
  },
  {
   "cell_type": "code",
   "execution_count": null,
   "id": "cd1aabc6",
   "metadata": {
    "ExecuteTime": {
     "end_time": "2022-01-06T01:07:28.988674Z",
     "start_time": "2022-01-06T01:07:28.984755Z"
    }
   },
   "outputs": [],
   "source": []
  },
  {
   "cell_type": "code",
   "execution_count": null,
   "id": "b738bd3e",
   "metadata": {},
   "outputs": [],
   "source": []
  }
 ],
 "metadata": {
  "kernelspec": {
   "display_name": "Python [conda env:learn-env] *",
   "language": "python",
   "name": "conda-env-learn-env-py"
  },
  "language_info": {
   "codemirror_mode": {
    "name": "ipython",
    "version": 3
   },
   "file_extension": ".py",
   "mimetype": "text/x-python",
   "name": "python",
   "nbconvert_exporter": "python",
   "pygments_lexer": "ipython3",
   "version": "3.6.9"
  },
  "toc": {
   "base_numbering": 1,
   "nav_menu": {},
   "number_sections": false,
   "sideBar": true,
   "skip_h1_title": false,
   "title_cell": "Table of Contents",
   "title_sidebar": "Contents",
   "toc_cell": false,
   "toc_position": {
    "height": "calc(100% - 180px)",
    "left": "10px",
    "top": "150px",
    "width": "219px"
   },
   "toc_section_display": true,
   "toc_window_display": true
  }
 },
 "nbformat": 4,
 "nbformat_minor": 5
}
