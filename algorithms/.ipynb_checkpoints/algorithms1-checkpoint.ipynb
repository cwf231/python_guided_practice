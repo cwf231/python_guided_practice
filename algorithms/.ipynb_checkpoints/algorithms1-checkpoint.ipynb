{
 "cells": [
  {
   "cell_type": "markdown",
   "id": "e7599699",
   "metadata": {},
   "source": [
    "# Python Algorithm Practice!"
   ]
  },
  {
   "cell_type": "markdown",
   "id": "b3cf343f",
   "metadata": {},
   "source": [
    "# Question 1\n",
    "In this kata you need to check the provided array (x) for good ideas 'good' and bad ideas 'bad'. If there are one or two good ideas, return 'Publish!', if there are more than 2 return 'I smell a series!'. If there are no good ideas, as is often the case, return 'Fail!'.\n",
    "\n",
    "- `well(['bad', 'bad', 'bad'])`\n",
    "    - `'Fail!'`\n",
    "- `well(['good', 'bad', 'bad', 'bad', 'bad'])`\n",
    "    - `'Publish!'`\n",
    "- `well(['good', 'bad', 'bad', 'bad', 'bad', 'good', 'bad', 'bad', 'good'])`\n",
    "    - `'I smell a series!'`"
   ]
  },
  {
   "cell_type": "code",
   "execution_count": null,
   "id": "727370b5",
   "metadata": {
    "ExecuteTime": {
     "end_time": "2022-01-12T23:24:51.474663Z",
     "start_time": "2022-01-12T23:24:51.466214Z"
    }
   },
   "outputs": [],
   "source": [
    "question1_test1 = ['bad', 'bad', 'bad']\n",
    "question1_test2 = ['good', 'bad', 'bad', 'bad', 'bad']\n",
    "question1_test3 = ['good', 'bad', 'bad', 'bad', 'bad', 'good', 'bad', 'bad', 'good']"
   ]
  },
  {
   "cell_type": "code",
   "execution_count": null,
   "id": "0b79cb84",
   "metadata": {
    "ExecuteTime": {
     "end_time": "2022-01-06T01:07:28.786409Z",
     "start_time": "2022-01-06T01:07:28.783911Z"
    }
   },
   "outputs": [],
   "source": []
  },
  {
   "cell_type": "code",
   "execution_count": null,
   "id": "bd8db42c",
   "metadata": {
    "ExecuteTime": {
     "end_time": "2022-01-06T01:07:28.793125Z",
     "start_time": "2022-01-06T01:07:28.789155Z"
    }
   },
   "outputs": [],
   "source": []
  },
  {
   "cell_type": "code",
   "execution_count": null,
   "id": "4aebccd9",
   "metadata": {
    "ExecuteTime": {
     "end_time": "2022-01-06T01:07:28.799209Z",
     "start_time": "2022-01-06T01:07:28.795412Z"
    },
    "scrolled": true
   },
   "outputs": [],
   "source": []
  },
  {
   "cell_type": "code",
   "execution_count": null,
   "id": "e445ce27",
   "metadata": {
    "ExecuteTime": {
     "end_time": "2022-01-06T01:07:28.808225Z",
     "start_time": "2022-01-06T01:07:28.804174Z"
    }
   },
   "outputs": [],
   "source": []
  },
  {
   "cell_type": "code",
   "execution_count": null,
   "id": "22db8af9",
   "metadata": {
    "ExecuteTime": {
     "end_time": "2022-01-06T01:07:28.816611Z",
     "start_time": "2022-01-06T01:07:28.813250Z"
    }
   },
   "outputs": [],
   "source": []
  },
  {
   "cell_type": "code",
   "execution_count": null,
   "id": "81ee4ff5",
   "metadata": {
    "ExecuteTime": {
     "end_time": "2022-01-06T01:07:28.832743Z",
     "start_time": "2022-01-06T01:07:28.820126Z"
    }
   },
   "outputs": [],
   "source": []
  },
  {
   "cell_type": "code",
   "execution_count": null,
   "id": "e22d2ed8",
   "metadata": {
    "ExecuteTime": {
     "end_time": "2022-01-06T01:07:28.841212Z",
     "start_time": "2022-01-06T01:07:28.835561Z"
    }
   },
   "outputs": [],
   "source": []
  },
  {
   "cell_type": "code",
   "execution_count": null,
   "id": "b5e5f645",
   "metadata": {
    "ExecuteTime": {
     "end_time": "2022-01-06T01:07:28.849127Z",
     "start_time": "2022-01-06T01:07:28.844247Z"
    }
   },
   "outputs": [],
   "source": []
  },
  {
   "cell_type": "code",
   "execution_count": null,
   "id": "51c290d2",
   "metadata": {
    "ExecuteTime": {
     "end_time": "2022-01-06T01:07:28.856670Z",
     "start_time": "2022-01-06T01:07:28.851213Z"
    }
   },
   "outputs": [],
   "source": []
  },
  {
   "cell_type": "markdown",
   "id": "022f4907",
   "metadata": {},
   "source": [
    "# Question 2\n",
    "Given two arrays of integers m and n, test if they contain at least one identical element. Return true if they do; false if not.\n",
    "\n",
    "\n",
    "- `duplicate_elements([1, 2, 3, 4, 5], [1, 6, 7, 8, 9])`\n",
    "    - True\n",
    "\n",
    "- `duplicate_elements([1, 3, 5, 7, 9], [2, 4, 6, 8])`\n",
    "    - False\n",
    "\n",
    "- `duplicate_elements([], [9, 8, 7, 6, 5])`\n",
    "    - False"
   ]
  },
  {
   "cell_type": "code",
   "execution_count": null,
   "id": "d97aad9c",
   "metadata": {
    "ExecuteTime": {
     "end_time": "2022-01-12T23:24:51.480069Z",
     "start_time": "2022-01-12T23:24:51.477176Z"
    }
   },
   "outputs": [],
   "source": [
    "question2_test1 = [1, 2, 3, 4, 5]\n",
    "question2_test2 = [1, 6, 7, 8, 9]"
   ]
  },
  {
   "cell_type": "code",
   "execution_count": null,
   "id": "4045dae4",
   "metadata": {
    "ExecuteTime": {
     "end_time": "2022-01-06T01:07:28.869682Z",
     "start_time": "2022-01-06T01:07:28.866085Z"
    }
   },
   "outputs": [],
   "source": []
  },
  {
   "cell_type": "code",
   "execution_count": null,
   "id": "0ec4defc",
   "metadata": {
    "ExecuteTime": {
     "end_time": "2022-01-06T01:07:28.877662Z",
     "start_time": "2022-01-06T01:07:28.872787Z"
    }
   },
   "outputs": [],
   "source": []
  },
  {
   "cell_type": "code",
   "execution_count": null,
   "id": "11a4c3d6",
   "metadata": {
    "ExecuteTime": {
     "end_time": "2022-01-06T01:07:28.885123Z",
     "start_time": "2022-01-06T01:07:28.880882Z"
    }
   },
   "outputs": [],
   "source": []
  },
  {
   "cell_type": "code",
   "execution_count": null,
   "id": "36287a6c",
   "metadata": {
    "ExecuteTime": {
     "end_time": "2022-01-06T01:07:28.893097Z",
     "start_time": "2022-01-06T01:07:28.888272Z"
    }
   },
   "outputs": [],
   "source": []
  },
  {
   "cell_type": "code",
   "execution_count": null,
   "id": "8c46839f",
   "metadata": {
    "ExecuteTime": {
     "end_time": "2022-01-06T01:07:28.899089Z",
     "start_time": "2022-01-06T01:07:28.895846Z"
    }
   },
   "outputs": [],
   "source": []
  },
  {
   "cell_type": "code",
   "execution_count": null,
   "id": "dd7a51a2",
   "metadata": {
    "ExecuteTime": {
     "end_time": "2022-01-06T01:07:28.908624Z",
     "start_time": "2022-01-06T01:07:28.902727Z"
    }
   },
   "outputs": [],
   "source": []
  },
  {
   "cell_type": "code",
   "execution_count": null,
   "id": "3b88cbe2",
   "metadata": {
    "ExecuteTime": {
     "end_time": "2022-01-06T01:07:28.919704Z",
     "start_time": "2022-01-06T01:07:28.911921Z"
    }
   },
   "outputs": [],
   "source": []
  },
  {
   "cell_type": "code",
   "execution_count": null,
   "id": "abb23a32",
   "metadata": {
    "ExecuteTime": {
     "end_time": "2022-01-06T01:07:28.928903Z",
     "start_time": "2022-01-06T01:07:28.922872Z"
    }
   },
   "outputs": [],
   "source": []
  },
  {
   "cell_type": "markdown",
   "id": "17f41f55",
   "metadata": {},
   "source": [
    "# Question 3\n",
    "Your car is old, it breaks easily. The shock absorbers are gone and you think it can handle about 15 more bumps before it dies totally.\n",
    "\n",
    "Unfortunately for you, your drive is very bumpy! Given a string showing either flat road (\"_\") or bumps (\"n\"), work out if you make it home safely. 15 bumps or under, return \"Woohoo!\", over 15 bumps return \"Car Dead\".\n",
    "\n",
    "---\n",
    "\n",
    "***Tests***\n",
    "- bumps(\"n\") \n",
    "    - \"Woohoo!\"\n",
    "- bumps(\"\\_nnnnnnn_n__n______nn__nn_nnn\")\n",
    "    - \"Car Dead\"\n",
    "- bumps(\"______n___n_\")\n",
    "    - \"Woohoo!\"\n",
    "- bumps(\"nnnnnnnnnnnnnnnnnnnnn\")\n",
    "    - \"Car Dead\""
   ]
  },
  {
   "cell_type": "code",
   "execution_count": null,
   "id": "6d941a20",
   "metadata": {
    "ExecuteTime": {
     "end_time": "2022-01-12T23:24:51.485322Z",
     "start_time": "2022-01-12T23:24:51.482792Z"
    }
   },
   "outputs": [],
   "source": [
    "question3_test1 = 'n'\n",
    "question3_test2 = '_nnnnnnn_n__n______nn__nn_nnn'\n",
    "question3_test3 = '__n___n_'\n",
    "question3_test4 = '_nnnnnnn_n__n______nn__nn_nnn'"
   ]
  },
  {
   "cell_type": "code",
   "execution_count": null,
   "id": "3a3daf93",
   "metadata": {
    "ExecuteTime": {
     "end_time": "2022-01-06T01:07:28.944890Z",
     "start_time": "2022-01-06T01:07:28.938994Z"
    }
   },
   "outputs": [],
   "source": []
  },
  {
   "cell_type": "code",
   "execution_count": null,
   "id": "cb36b81b",
   "metadata": {
    "ExecuteTime": {
     "end_time": "2022-01-06T01:07:28.950445Z",
     "start_time": "2022-01-06T01:07:28.947006Z"
    }
   },
   "outputs": [],
   "source": []
  },
  {
   "cell_type": "code",
   "execution_count": null,
   "id": "a533e518",
   "metadata": {
    "ExecuteTime": {
     "end_time": "2022-01-06T01:07:28.957500Z",
     "start_time": "2022-01-06T01:07:28.952518Z"
    }
   },
   "outputs": [],
   "source": []
  },
  {
   "cell_type": "code",
   "execution_count": null,
   "id": "85011b6f",
   "metadata": {
    "ExecuteTime": {
     "end_time": "2022-01-06T01:07:28.965013Z",
     "start_time": "2022-01-06T01:07:28.960196Z"
    }
   },
   "outputs": [],
   "source": []
  },
  {
   "cell_type": "code",
   "execution_count": null,
   "id": "a8c63ad2",
   "metadata": {
    "ExecuteTime": {
     "end_time": "2022-01-06T01:07:28.973850Z",
     "start_time": "2022-01-06T01:07:28.967285Z"
    }
   },
   "outputs": [],
   "source": []
  },
  {
   "cell_type": "code",
   "execution_count": null,
   "id": "21c4af8e",
   "metadata": {
    "ExecuteTime": {
     "end_time": "2022-01-06T01:07:28.982604Z",
     "start_time": "2022-01-06T01:07:28.977210Z"
    }
   },
   "outputs": [],
   "source": []
  },
  {
   "cell_type": "code",
   "execution_count": null,
   "id": "75c2681e",
   "metadata": {
    "ExecuteTime": {
     "end_time": "2022-01-06T01:07:28.988674Z",
     "start_time": "2022-01-06T01:07:28.984755Z"
    }
   },
   "outputs": [],
   "source": []
  },
  {
   "cell_type": "code",
   "execution_count": null,
   "id": "71821f8b",
   "metadata": {},
   "outputs": [],
   "source": []
  }
 ],
 "metadata": {
  "kernelspec": {
   "display_name": "Python [conda env:learn-env] *",
   "language": "python",
   "name": "conda-env-learn-env-py"
  },
  "language_info": {
   "codemirror_mode": {
    "name": "ipython",
    "version": 3
   },
   "file_extension": ".py",
   "mimetype": "text/x-python",
   "name": "python",
   "nbconvert_exporter": "python",
   "pygments_lexer": "ipython3",
   "version": "3.6.9"
  },
  "toc": {
   "base_numbering": 1,
   "nav_menu": {},
   "number_sections": false,
   "sideBar": true,
   "skip_h1_title": false,
   "title_cell": "Table of Contents",
   "title_sidebar": "Contents",
   "toc_cell": false,
   "toc_position": {},
   "toc_section_display": true,
   "toc_window_display": true
  }
 },
 "nbformat": 4,
 "nbformat_minor": 5
}
