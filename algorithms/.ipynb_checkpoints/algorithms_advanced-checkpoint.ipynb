{
 "cells": [
  {
   "cell_type": "markdown",
   "id": "5ec2b8cc",
   "metadata": {},
   "source": [
    "# Python Algorithm Practice!"
   ]
  },
  {
   "cell_type": "markdown",
   "id": "0ca9678e",
   "metadata": {},
   "source": [
    "# Question 1\n",
    "**Task**\n",
    "\n",
    "Write a function where given an array of numbers and an index, return the index of the **least number** larger than the element at the given index, *or -1 if there is no such index ( or, where applicable, Nothing or a similarly empty value ).*\n",
    "\n",
    "---\n",
    "\n",
    "**Notes**\n",
    "\n",
    "Multiple correct answers may be possible. In this case, return any one of them.\n",
    "The given index will be inside the given array.\n",
    "The given array will, therefore, never be empty.\n",
    "\n",
    "```python\n",
    "least_larger( [4, 1, 3, 5, 6], 0 )  # 3\n",
    "least_larger( [4, 1, 3, 5, 6], 4 )  # -1\n",
    "```"
   ]
  },
  {
   "cell_type": "code",
   "execution_count": null,
   "id": "9ce6cee6",
   "metadata": {
    "ExecuteTime": {
     "end_time": "2022-01-12T23:24:51.474663Z",
     "start_time": "2022-01-12T23:24:51.466214Z"
    }
   },
   "outputs": [],
   "source": [
    "a1, a2 = [4, 1, 3, 5, 6], 0\n",
    "\n",
    "b1, b2 = [4, 1, 3, 5, 6], 4"
   ]
  },
  {
   "cell_type": "code",
   "execution_count": null,
   "id": "313ce632",
   "metadata": {
    "ExecuteTime": {
     "end_time": "2022-01-06T01:07:28.786409Z",
     "start_time": "2022-01-06T01:07:28.783911Z"
    }
   },
   "outputs": [],
   "source": []
  },
  {
   "cell_type": "code",
   "execution_count": null,
   "id": "33563b5c",
   "metadata": {
    "ExecuteTime": {
     "end_time": "2022-01-06T01:07:28.793125Z",
     "start_time": "2022-01-06T01:07:28.789155Z"
    }
   },
   "outputs": [],
   "source": []
  },
  {
   "cell_type": "code",
   "execution_count": null,
   "id": "9445f3d1",
   "metadata": {
    "ExecuteTime": {
     "end_time": "2022-01-06T01:07:28.799209Z",
     "start_time": "2022-01-06T01:07:28.795412Z"
    },
    "scrolled": true
   },
   "outputs": [],
   "source": []
  },
  {
   "cell_type": "code",
   "execution_count": null,
   "id": "f418b2af",
   "metadata": {
    "ExecuteTime": {
     "end_time": "2022-01-06T01:07:28.808225Z",
     "start_time": "2022-01-06T01:07:28.804174Z"
    }
   },
   "outputs": [],
   "source": []
  },
  {
   "cell_type": "code",
   "execution_count": null,
   "id": "906afdd3",
   "metadata": {
    "ExecuteTime": {
     "end_time": "2022-01-06T01:07:28.816611Z",
     "start_time": "2022-01-06T01:07:28.813250Z"
    }
   },
   "outputs": [],
   "source": []
  },
  {
   "cell_type": "code",
   "execution_count": null,
   "id": "fc589331",
   "metadata": {
    "ExecuteTime": {
     "end_time": "2022-01-06T01:07:28.832743Z",
     "start_time": "2022-01-06T01:07:28.820126Z"
    }
   },
   "outputs": [],
   "source": []
  },
  {
   "cell_type": "code",
   "execution_count": null,
   "id": "30c73c2d",
   "metadata": {
    "ExecuteTime": {
     "end_time": "2022-01-06T01:07:28.841212Z",
     "start_time": "2022-01-06T01:07:28.835561Z"
    }
   },
   "outputs": [],
   "source": []
  },
  {
   "cell_type": "code",
   "execution_count": null,
   "id": "c7124dce",
   "metadata": {
    "ExecuteTime": {
     "end_time": "2022-01-06T01:07:28.849127Z",
     "start_time": "2022-01-06T01:07:28.844247Z"
    }
   },
   "outputs": [],
   "source": []
  },
  {
   "cell_type": "code",
   "execution_count": null,
   "id": "fcdb66c1",
   "metadata": {
    "ExecuteTime": {
     "end_time": "2022-01-06T01:07:28.856670Z",
     "start_time": "2022-01-06T01:07:28.851213Z"
    }
   },
   "outputs": [],
   "source": []
  },
  {
   "cell_type": "markdown",
   "id": "1b8160ec",
   "metadata": {},
   "source": [
    "# Question 2\n",
    "Given a number `n`, return the number of **positive odd numbers below `n`**.\n",
    "\n",
    "```python\n",
    "odd_count(7)  # 3 (i.e.: [1, 3, 5])\n",
    "odd_count(15) # 7 (i.e.: [1, 3, 5, 7, 9, 11, 13])\n",
    "```"
   ]
  },
  {
   "cell_type": "code",
   "execution_count": null,
   "id": "ee85a542",
   "metadata": {
    "ExecuteTime": {
     "end_time": "2022-01-12T23:24:51.480069Z",
     "start_time": "2022-01-12T23:24:51.477176Z"
    }
   },
   "outputs": [],
   "source": [
    "c1 = [1, 2, 3, 4, 5]\n",
    "d1 = [1, 6, 7, 8, 9]"
   ]
  },
  {
   "cell_type": "code",
   "execution_count": null,
   "id": "ed540f45",
   "metadata": {
    "ExecuteTime": {
     "end_time": "2022-01-06T01:07:28.869682Z",
     "start_time": "2022-01-06T01:07:28.866085Z"
    }
   },
   "outputs": [],
   "source": []
  },
  {
   "cell_type": "code",
   "execution_count": null,
   "id": "4c939e4f",
   "metadata": {
    "ExecuteTime": {
     "end_time": "2022-01-06T01:07:28.877662Z",
     "start_time": "2022-01-06T01:07:28.872787Z"
    }
   },
   "outputs": [],
   "source": []
  },
  {
   "cell_type": "code",
   "execution_count": null,
   "id": "c8561a68",
   "metadata": {
    "ExecuteTime": {
     "end_time": "2022-01-06T01:07:28.885123Z",
     "start_time": "2022-01-06T01:07:28.880882Z"
    }
   },
   "outputs": [],
   "source": []
  },
  {
   "cell_type": "code",
   "execution_count": null,
   "id": "54090b7d",
   "metadata": {
    "ExecuteTime": {
     "end_time": "2022-01-06T01:07:28.893097Z",
     "start_time": "2022-01-06T01:07:28.888272Z"
    }
   },
   "outputs": [],
   "source": []
  },
  {
   "cell_type": "code",
   "execution_count": null,
   "id": "883c63a1",
   "metadata": {
    "ExecuteTime": {
     "end_time": "2022-01-06T01:07:28.899089Z",
     "start_time": "2022-01-06T01:07:28.895846Z"
    }
   },
   "outputs": [],
   "source": []
  },
  {
   "cell_type": "code",
   "execution_count": null,
   "id": "10ccfb71",
   "metadata": {
    "ExecuteTime": {
     "end_time": "2022-01-06T01:07:28.908624Z",
     "start_time": "2022-01-06T01:07:28.902727Z"
    }
   },
   "outputs": [],
   "source": []
  },
  {
   "cell_type": "code",
   "execution_count": null,
   "id": "6b660b13",
   "metadata": {
    "ExecuteTime": {
     "end_time": "2022-01-06T01:07:28.919704Z",
     "start_time": "2022-01-06T01:07:28.911921Z"
    }
   },
   "outputs": [],
   "source": []
  },
  {
   "cell_type": "code",
   "execution_count": null,
   "id": "e4039879",
   "metadata": {
    "ExecuteTime": {
     "end_time": "2022-01-06T01:07:28.928903Z",
     "start_time": "2022-01-06T01:07:28.922872Z"
    }
   },
   "outputs": [],
   "source": []
  },
  {
   "cell_type": "markdown",
   "id": "837fd55c",
   "metadata": {},
   "source": [
    "# Question 3\n",
    "Write a function that checks if a given string (case insensitive) is a **palindrome**.\n",
    "\n",
    "> *A palindrome is a word, number, phrase, or other sequence of characters which **reads the same backward as forward**, such as madam or racecar.*"
   ]
  },
  {
   "cell_type": "code",
   "execution_count": null,
   "id": "d3f07012",
   "metadata": {
    "ExecuteTime": {
     "end_time": "2022-01-12T23:24:51.485322Z",
     "start_time": "2022-01-12T23:24:51.482792Z"
    }
   },
   "outputs": [],
   "source": [
    "e1 = 'detartrated'\n",
    "f1 = 'saippuakivikauppias'\n",
    "g1 = 'Racecar' # Reminder: Case-sensitive!\n",
    "h1 = 'house'"
   ]
  },
  {
   "cell_type": "code",
   "execution_count": null,
   "id": "f6cb8ac2",
   "metadata": {
    "ExecuteTime": {
     "end_time": "2022-01-06T01:07:28.944890Z",
     "start_time": "2022-01-06T01:07:28.938994Z"
    }
   },
   "outputs": [],
   "source": []
  },
  {
   "cell_type": "code",
   "execution_count": null,
   "id": "a9cf1fc3",
   "metadata": {
    "ExecuteTime": {
     "end_time": "2022-01-06T01:07:28.950445Z",
     "start_time": "2022-01-06T01:07:28.947006Z"
    }
   },
   "outputs": [],
   "source": []
  },
  {
   "cell_type": "code",
   "execution_count": null,
   "id": "77a11d9b",
   "metadata": {
    "ExecuteTime": {
     "end_time": "2022-01-06T01:07:28.957500Z",
     "start_time": "2022-01-06T01:07:28.952518Z"
    }
   },
   "outputs": [],
   "source": []
  },
  {
   "cell_type": "code",
   "execution_count": null,
   "id": "72de4584",
   "metadata": {
    "ExecuteTime": {
     "end_time": "2022-01-06T01:07:28.965013Z",
     "start_time": "2022-01-06T01:07:28.960196Z"
    }
   },
   "outputs": [],
   "source": []
  },
  {
   "cell_type": "code",
   "execution_count": null,
   "id": "d3fbc067",
   "metadata": {
    "ExecuteTime": {
     "end_time": "2022-01-06T01:07:28.973850Z",
     "start_time": "2022-01-06T01:07:28.967285Z"
    }
   },
   "outputs": [],
   "source": []
  },
  {
   "cell_type": "code",
   "execution_count": null,
   "id": "38651788",
   "metadata": {
    "ExecuteTime": {
     "end_time": "2022-01-06T01:07:28.982604Z",
     "start_time": "2022-01-06T01:07:28.977210Z"
    }
   },
   "outputs": [],
   "source": []
  },
  {
   "cell_type": "code",
   "execution_count": null,
   "id": "9055b14e",
   "metadata": {
    "ExecuteTime": {
     "end_time": "2022-01-06T01:07:28.988674Z",
     "start_time": "2022-01-06T01:07:28.984755Z"
    }
   },
   "outputs": [],
   "source": []
  },
  {
   "cell_type": "code",
   "execution_count": null,
   "id": "f03778ab",
   "metadata": {},
   "outputs": [],
   "source": []
  }
 ],
 "metadata": {
  "kernelspec": {
   "display_name": "Python [conda env:learn-env] *",
   "language": "python",
   "name": "conda-env-learn-env-py"
  },
  "language_info": {
   "codemirror_mode": {
    "name": "ipython",
    "version": 3
   },
   "file_extension": ".py",
   "mimetype": "text/x-python",
   "name": "python",
   "nbconvert_exporter": "python",
   "pygments_lexer": "ipython3",
   "version": "3.6.9"
  },
  "toc": {
   "base_numbering": 1,
   "nav_menu": {},
   "number_sections": false,
   "sideBar": true,
   "skip_h1_title": false,
   "title_cell": "Table of Contents",
   "title_sidebar": "Contents",
   "toc_cell": false,
   "toc_position": {
    "height": "calc(100% - 180px)",
    "left": "10px",
    "top": "150px",
    "width": "384px"
   },
   "toc_section_display": true,
   "toc_window_display": true
  }
 },
 "nbformat": 4,
 "nbformat_minor": 5
}
