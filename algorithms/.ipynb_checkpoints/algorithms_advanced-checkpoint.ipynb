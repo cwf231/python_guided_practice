{
 "cells": [
  {
   "cell_type": "markdown",
   "id": "22d679be",
   "metadata": {},
   "source": [
    "# Python Algorithm Practice!"
   ]
  },
  {
   "cell_type": "markdown",
   "id": "1b7359da",
   "metadata": {},
   "source": [
    "# Question 1\n",
    "**Task**\n",
    "\n",
    "Write a function where given an array of numbers and an index, return the index of the **least number** larger than the element at the given index, *or -1 if there is no such index ( or, where applicable, Nothing or a similarly empty value ).*\n",
    "\n",
    "---\n",
    "\n",
    "**Notes**\n",
    "\n",
    "Multiple correct answers may be possible. In this case, return any one of them.\n",
    "The given index will be inside the given array.\n",
    "The given array will, therefore, never be empty.\n",
    "\n",
    "```python\n",
    "least_larger( [4, 1, 3, 5, 6], 0 )  # 3\n",
    "least_larger( [4, 1, 3, 5, 6], 4 )  # -1\n",
    "```"
   ]
  },
  {
   "cell_type": "code",
   "execution_count": null,
   "id": "02fd79a6",
   "metadata": {
    "ExecuteTime": {
     "end_time": "2022-01-12T23:24:51.474663Z",
     "start_time": "2022-01-12T23:24:51.466214Z"
    }
   },
   "outputs": [],
   "source": [
    "a1, a2 = [4, 1, 3, 5, 6], 0\n",
    "\n",
    "b1, b2 = [4, 1, 3, 5, 6], 4"
   ]
  },
  {
   "cell_type": "code",
   "execution_count": null,
   "id": "6e785dfd",
   "metadata": {
    "ExecuteTime": {
     "end_time": "2022-01-06T01:07:28.786409Z",
     "start_time": "2022-01-06T01:07:28.783911Z"
    }
   },
   "outputs": [],
   "source": []
  },
  {
   "cell_type": "code",
   "execution_count": null,
   "id": "fa1a4381",
   "metadata": {
    "ExecuteTime": {
     "end_time": "2022-01-06T01:07:28.793125Z",
     "start_time": "2022-01-06T01:07:28.789155Z"
    }
   },
   "outputs": [],
   "source": []
  },
  {
   "cell_type": "code",
   "execution_count": null,
   "id": "145cb0b6",
   "metadata": {
    "ExecuteTime": {
     "end_time": "2022-01-06T01:07:28.799209Z",
     "start_time": "2022-01-06T01:07:28.795412Z"
    },
    "scrolled": true
   },
   "outputs": [],
   "source": []
  },
  {
   "cell_type": "code",
   "execution_count": null,
   "id": "65114b25",
   "metadata": {
    "ExecuteTime": {
     "end_time": "2022-01-06T01:07:28.808225Z",
     "start_time": "2022-01-06T01:07:28.804174Z"
    }
   },
   "outputs": [],
   "source": []
  },
  {
   "cell_type": "code",
   "execution_count": null,
   "id": "7c3fccba",
   "metadata": {
    "ExecuteTime": {
     "end_time": "2022-01-06T01:07:28.816611Z",
     "start_time": "2022-01-06T01:07:28.813250Z"
    }
   },
   "outputs": [],
   "source": []
  },
  {
   "cell_type": "code",
   "execution_count": null,
   "id": "5f3dbbf9",
   "metadata": {
    "ExecuteTime": {
     "end_time": "2022-01-06T01:07:28.832743Z",
     "start_time": "2022-01-06T01:07:28.820126Z"
    }
   },
   "outputs": [],
   "source": []
  },
  {
   "cell_type": "code",
   "execution_count": null,
   "id": "a1a579a7",
   "metadata": {
    "ExecuteTime": {
     "end_time": "2022-01-06T01:07:28.841212Z",
     "start_time": "2022-01-06T01:07:28.835561Z"
    }
   },
   "outputs": [],
   "source": []
  },
  {
   "cell_type": "code",
   "execution_count": null,
   "id": "d4b0cc2e",
   "metadata": {
    "ExecuteTime": {
     "end_time": "2022-01-06T01:07:28.849127Z",
     "start_time": "2022-01-06T01:07:28.844247Z"
    }
   },
   "outputs": [],
   "source": []
  },
  {
   "cell_type": "code",
   "execution_count": null,
   "id": "6cda43fe",
   "metadata": {
    "ExecuteTime": {
     "end_time": "2022-01-06T01:07:28.856670Z",
     "start_time": "2022-01-06T01:07:28.851213Z"
    }
   },
   "outputs": [],
   "source": []
  },
  {
   "cell_type": "markdown",
   "id": "e91d1141",
   "metadata": {},
   "source": [
    "# Question 2\n",
    "Given a number `n`, return the number of **positive odd numbers below `n`**.\n",
    "\n",
    "```python\n",
    "odd_count(7)  # 3 (i.e.: [1, 3, 5])\n",
    "odd_count(15) # 7 (i.e.: [1, 3, 5, 7, 9, 11, 13])\n",
    "```"
   ]
  },
  {
   "cell_type": "code",
   "execution_count": null,
   "id": "b15eb474",
   "metadata": {
    "ExecuteTime": {
     "end_time": "2022-01-12T23:24:51.480069Z",
     "start_time": "2022-01-12T23:24:51.477176Z"
    }
   },
   "outputs": [],
   "source": [
    "c1 = [1, 2, 3, 4, 5]\n",
    "d1 = [1, 6, 7, 8, 9]"
   ]
  },
  {
   "cell_type": "code",
   "execution_count": null,
   "id": "3c5ced27",
   "metadata": {
    "ExecuteTime": {
     "end_time": "2022-01-06T01:07:28.869682Z",
     "start_time": "2022-01-06T01:07:28.866085Z"
    }
   },
   "outputs": [],
   "source": []
  },
  {
   "cell_type": "code",
   "execution_count": null,
   "id": "1c7e9af9",
   "metadata": {
    "ExecuteTime": {
     "end_time": "2022-01-06T01:07:28.877662Z",
     "start_time": "2022-01-06T01:07:28.872787Z"
    }
   },
   "outputs": [],
   "source": []
  },
  {
   "cell_type": "code",
   "execution_count": null,
   "id": "aba63e73",
   "metadata": {
    "ExecuteTime": {
     "end_time": "2022-01-06T01:07:28.885123Z",
     "start_time": "2022-01-06T01:07:28.880882Z"
    }
   },
   "outputs": [],
   "source": []
  },
  {
   "cell_type": "code",
   "execution_count": null,
   "id": "c0e12da5",
   "metadata": {
    "ExecuteTime": {
     "end_time": "2022-01-06T01:07:28.893097Z",
     "start_time": "2022-01-06T01:07:28.888272Z"
    }
   },
   "outputs": [],
   "source": []
  },
  {
   "cell_type": "code",
   "execution_count": null,
   "id": "625213bc",
   "metadata": {
    "ExecuteTime": {
     "end_time": "2022-01-06T01:07:28.899089Z",
     "start_time": "2022-01-06T01:07:28.895846Z"
    }
   },
   "outputs": [],
   "source": []
  },
  {
   "cell_type": "code",
   "execution_count": null,
   "id": "e79ad0cb",
   "metadata": {
    "ExecuteTime": {
     "end_time": "2022-01-06T01:07:28.908624Z",
     "start_time": "2022-01-06T01:07:28.902727Z"
    }
   },
   "outputs": [],
   "source": []
  },
  {
   "cell_type": "code",
   "execution_count": null,
   "id": "c6599c06",
   "metadata": {
    "ExecuteTime": {
     "end_time": "2022-01-06T01:07:28.919704Z",
     "start_time": "2022-01-06T01:07:28.911921Z"
    }
   },
   "outputs": [],
   "source": []
  },
  {
   "cell_type": "code",
   "execution_count": null,
   "id": "dc9ce9c5",
   "metadata": {
    "ExecuteTime": {
     "end_time": "2022-01-06T01:07:28.928903Z",
     "start_time": "2022-01-06T01:07:28.922872Z"
    }
   },
   "outputs": [],
   "source": []
  },
  {
   "cell_type": "markdown",
   "id": "28c65032",
   "metadata": {},
   "source": [
    "# Question 3\n",
    "Write a function that checks if a given string (case insensitive) is a **palindrome**.\n",
    "\n",
    "> *A palindrome is a word, number, phrase, or other sequence of characters which **reads the same backward as forward**, such as madam or racecar.*"
   ]
  },
  {
   "cell_type": "code",
   "execution_count": null,
   "id": "84313043",
   "metadata": {
    "ExecuteTime": {
     "end_time": "2022-08-31T14:37:54.828727Z",
     "start_time": "2022-08-31T14:37:54.819918Z"
    }
   },
   "outputs": [],
   "source": [
    "e1 = 'detartrated'\n",
    "f1 = 'saippuakivikauppias'\n",
    "g1 = 'Racecar' # Reminder: Case-sensitive!\n",
    "h1 = 'house'"
   ]
  },
  {
   "cell_type": "code",
   "execution_count": null,
   "id": "91f74654",
   "metadata": {
    "ExecuteTime": {
     "end_time": "2022-08-31T14:38:14.927875Z",
     "start_time": "2022-08-31T14:38:14.923664Z"
    }
   },
   "outputs": [],
   "source": []
  },
  {
   "cell_type": "code",
   "execution_count": null,
   "id": "343a1471",
   "metadata": {
    "ExecuteTime": {
     "end_time": "2022-01-06T01:07:28.950445Z",
     "start_time": "2022-01-06T01:07:28.947006Z"
    }
   },
   "outputs": [],
   "source": []
  },
  {
   "cell_type": "code",
   "execution_count": null,
   "id": "2e086028",
   "metadata": {
    "ExecuteTime": {
     "end_time": "2022-01-06T01:07:28.957500Z",
     "start_time": "2022-01-06T01:07:28.952518Z"
    }
   },
   "outputs": [],
   "source": []
  },
  {
   "cell_type": "code",
   "execution_count": null,
   "id": "10ff0da4",
   "metadata": {
    "ExecuteTime": {
     "end_time": "2022-01-06T01:07:28.965013Z",
     "start_time": "2022-01-06T01:07:28.960196Z"
    }
   },
   "outputs": [],
   "source": []
  },
  {
   "cell_type": "code",
   "execution_count": null,
   "id": "3d7a487f",
   "metadata": {
    "ExecuteTime": {
     "end_time": "2022-01-06T01:07:28.973850Z",
     "start_time": "2022-01-06T01:07:28.967285Z"
    }
   },
   "outputs": [],
   "source": []
  },
  {
   "cell_type": "code",
   "execution_count": null,
   "id": "41666896",
   "metadata": {
    "ExecuteTime": {
     "end_time": "2022-01-06T01:07:28.982604Z",
     "start_time": "2022-01-06T01:07:28.977210Z"
    }
   },
   "outputs": [],
   "source": []
  },
  {
   "cell_type": "code",
   "execution_count": null,
   "id": "0bd21721",
   "metadata": {
    "ExecuteTime": {
     "end_time": "2022-01-06T01:07:28.988674Z",
     "start_time": "2022-01-06T01:07:28.984755Z"
    }
   },
   "outputs": [],
   "source": []
  },
  {
   "cell_type": "code",
   "execution_count": null,
   "id": "f49d66ee",
   "metadata": {},
   "outputs": [],
   "source": []
  }
 ],
 "metadata": {
  "kernelspec": {
   "display_name": "Python [conda env:learn-env] *",
   "language": "python",
   "name": "conda-env-learn-env-py"
  },
  "language_info": {
   "codemirror_mode": {
    "name": "ipython",
    "version": 3
   },
   "file_extension": ".py",
   "mimetype": "text/x-python",
   "name": "python",
   "nbconvert_exporter": "python",
   "pygments_lexer": "ipython3",
   "version": "3.6.9"
  },
  "toc": {
   "base_numbering": 1,
   "nav_menu": {},
   "number_sections": false,
   "sideBar": true,
   "skip_h1_title": false,
   "title_cell": "Table of Contents",
   "title_sidebar": "Contents",
   "toc_cell": false,
   "toc_position": {
    "height": "calc(100% - 180px)",
    "left": "10px",
    "top": "150px",
    "width": "254px"
   },
   "toc_section_display": true,
   "toc_window_display": true
  }
 },
 "nbformat": 4,
 "nbformat_minor": 5
}
