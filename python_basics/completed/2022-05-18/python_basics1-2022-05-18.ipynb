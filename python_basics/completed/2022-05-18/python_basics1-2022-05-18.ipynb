{
 "cells": [
  {
   "cell_type": "markdown",
   "id": "285cf668",
   "metadata": {},
   "source": [
    "# Python Basics: Challenge & Review\n",
    "\n",
    "## Objectives\n",
    "- Review content from DS Prework.\n",
    "- Get hands on practice solving and writing coding problems.\n",
    "\n",
    "### Prerequisites \n",
    "- Ability to fork / clone a repository.\n",
    "- Basic understanding / exposure to basic Python.\n",
    "    - Variables\n",
    "    - Loops\n",
    "    - Conditional Statements\n",
    "- Critical thinking!"
   ]
  },
  {
   "cell_type": "markdown",
   "id": "b202c6a9",
   "metadata": {},
   "source": [
    "## Challenge 1:\n",
    "\n",
    "> *Review: variables, data-types, simple math, conditional statements (`if` / `elif` / `else`).*\n",
    "\n",
    "You are working for a Real Estate agency and you want to help develop a calculator that will help home buyers. The tool you create will be embedded in the website for the customers to refer to.\n",
    "\n",
    "Your calculator should deal with two variables:\n",
    "1. **Price** of the house the customer wants to buy.\n",
    "2. **Whether or not** the customer has good credit.\n",
    "\n",
    "> ***Quiz!***\n",
    "> - *What **data types** will the above variables be?*\n",
    "\n",
    "---\n",
    "\n",
    "- The calculator should print out the **down-payment** the customers need to pay in order to buy their house.\n",
    "\n",
    "- Customers who have good credit need to put $5\\%$ down, while customers who do not have to put $20\\%$ down."
   ]
  },
  {
   "cell_type": "markdown",
   "id": "ad8e09bd",
   "metadata": {},
   "source": [
    "> *For a level-up, try writing this code in a function that accepts different parameters for these variables.*"
   ]
  },
  {
   "cell_type": "code",
   "execution_count": 1,
   "id": "9dcc5f32",
   "metadata": {
    "ExecuteTime": {
     "end_time": "2022-05-18T21:35:06.812931Z",
     "start_time": "2022-05-18T21:35:06.804387Z"
    }
   },
   "outputs": [],
   "source": [
    "price = 300_000\n",
    "good_credit = True"
   ]
  },
  {
   "cell_type": "code",
   "execution_count": 2,
   "id": "bdefaf5d",
   "metadata": {
    "ExecuteTime": {
     "end_time": "2022-05-18T21:35:06.819878Z",
     "start_time": "2022-05-18T21:35:06.816072Z"
    }
   },
   "outputs": [
    {
     "name": "stdout",
     "output_type": "stream",
     "text": [
      "a is true\n"
     ]
    }
   ],
   "source": [
    "# Strings\n",
    "a = 'Claude' # True\n",
    "b = '' # False\n",
    "\n",
    "if a:\n",
    "    print('a is true')\n",
    "if b:\n",
    "    print('b is true')"
   ]
  },
  {
   "cell_type": "code",
   "execution_count": 3,
   "id": "568cabca",
   "metadata": {
    "ExecuteTime": {
     "end_time": "2022-05-18T21:35:06.824264Z",
     "start_time": "2022-05-18T21:35:06.821921Z"
    }
   },
   "outputs": [],
   "source": [
    "# Int / float\n",
    "a = 1 # True\n",
    "b = 0 # False"
   ]
  },
  {
   "cell_type": "code",
   "execution_count": 4,
   "id": "c809df04",
   "metadata": {
    "ExecuteTime": {
     "end_time": "2022-05-18T21:35:06.829209Z",
     "start_time": "2022-05-18T21:35:06.826355Z"
    }
   },
   "outputs": [],
   "source": [
    "# List / dict / tuple\n",
    "a = ['a', 1, 10.5] # True\n",
    "b = [] # False"
   ]
  },
  {
   "cell_type": "code",
   "execution_count": 5,
   "id": "66be51bb",
   "metadata": {
    "ExecuteTime": {
     "end_time": "2022-05-18T21:35:06.836211Z",
     "start_time": "2022-05-18T21:35:06.833805Z"
    }
   },
   "outputs": [],
   "source": [
    "if 'Claude' is True:\n",
    "    print('true')"
   ]
  },
  {
   "cell_type": "code",
   "execution_count": 6,
   "id": "42df3c1d",
   "metadata": {
    "ExecuteTime": {
     "end_time": "2022-05-18T21:35:06.841827Z",
     "start_time": "2022-05-18T21:35:06.838708Z"
    }
   },
   "outputs": [
    {
     "name": "stdout",
     "output_type": "stream",
     "text": [
      "true\n"
     ]
    }
   ],
   "source": [
    "if 'Claude':\n",
    "    print('true')"
   ]
  },
  {
   "cell_type": "code",
   "execution_count": 7,
   "id": "837497d7",
   "metadata": {
    "ExecuteTime": {
     "end_time": "2022-05-18T21:35:06.846645Z",
     "start_time": "2022-05-18T21:35:06.844081Z"
    }
   },
   "outputs": [],
   "source": [
    "if []:\n",
    "    print('true')"
   ]
  },
  {
   "cell_type": "code",
   "execution_count": 8,
   "id": "e36b2611",
   "metadata": {
    "ExecuteTime": {
     "end_time": "2022-05-18T21:35:06.851976Z",
     "start_time": "2022-05-18T21:35:06.848945Z"
    }
   },
   "outputs": [
    {
     "name": "stdout",
     "output_type": "stream",
     "text": [
      "true\n"
     ]
    }
   ],
   "source": [
    "if [1, 2, 3]:\n",
    "    print('true')"
   ]
  },
  {
   "cell_type": "code",
   "execution_count": 9,
   "id": "3589cbac",
   "metadata": {
    "ExecuteTime": {
     "end_time": "2022-05-18T21:35:06.857088Z",
     "start_time": "2022-05-18T21:35:06.853964Z"
    }
   },
   "outputs": [
    {
     "name": "stdout",
     "output_type": "stream",
     "text": [
      "The downpayment must be 15000.0!\n"
     ]
    }
   ],
   "source": [
    "# Solution\n",
    "if good_credit: # is True:\n",
    "    downpayment = 0.05\n",
    "else:\n",
    "    downpayment = 0.2\n",
    "    \n",
    "print(f'The downpayment must be {price * downpayment}!') # Formatted string."
   ]
  },
  {
   "cell_type": "code",
   "execution_count": 10,
   "id": "bead15ae",
   "metadata": {
    "ExecuteTime": {
     "end_time": "2022-05-18T21:35:06.863665Z",
     "start_time": "2022-05-18T21:35:06.859188Z"
    }
   },
   "outputs": [
    {
     "name": "stdout",
     "output_type": "stream",
     "text": [
      "Downpayment is 15000.0\n"
     ]
    }
   ],
   "source": [
    "if good_credit:\n",
    "    print(f'Downpayment is {price * 0.05}')\n",
    "else:\n",
    "    print(f'Downpayment is {price * 0.2}')"
   ]
  },
  {
   "cell_type": "code",
   "execution_count": 11,
   "id": "35366798",
   "metadata": {
    "ExecuteTime": {
     "end_time": "2022-05-18T21:35:06.868716Z",
     "start_time": "2022-05-18T21:35:06.865849Z"
    }
   },
   "outputs": [],
   "source": [
    "def downpayment_calculator(price, good_credit):\n",
    "    ..."
   ]
  },
  {
   "cell_type": "code",
   "execution_count": 12,
   "id": "91b7063f",
   "metadata": {
    "ExecuteTime": {
     "end_time": "2022-05-18T21:35:06.875755Z",
     "start_time": "2022-05-18T21:35:06.870673Z"
    }
   },
   "outputs": [
    {
     "name": "stdout",
     "output_type": "stream",
     "text": [
      "The downpayment must be 15000.0!\n",
      "The downpayment must be 60000.0!\n"
     ]
    }
   ],
   "source": [
    "# Kevin\n",
    "good_credit = True\n",
    "bad_credit = False\n",
    "\n",
    "def downpayment_calculator(price, credit):\n",
    "    if credit: # is True:\n",
    "        # Truthiness\n",
    "        downpayment = 0.05\n",
    "    else:\n",
    "        downpayment = 0.2\n",
    "#     answer = downpayment * price\n",
    "#     return answer\n",
    "    return downpayment * price\n",
    "    \n",
    "print(f'The downpayment must be {downpayment_calculator(price, good_credit)}!')\n",
    "print(f'The downpayment must be {downpayment_calculator(price, bad_credit)}!')"
   ]
  },
  {
   "cell_type": "code",
   "execution_count": 13,
   "id": "21196fe7",
   "metadata": {
    "ExecuteTime": {
     "end_time": "2022-05-18T21:35:06.881929Z",
     "start_time": "2022-05-18T21:35:06.878986Z"
    }
   },
   "outputs": [],
   "source": [
    "# Josh\n",
    "def downpayment_calculator(price, good_credit):\n",
    "    price = float(price)\n",
    "    if good_credit:\n",
    "        return price * .05\n",
    "    return price * .20"
   ]
  },
  {
   "cell_type": "markdown",
   "id": "8046b029",
   "metadata": {},
   "source": [
    "## Challenge 2:\n",
    "\n",
    "*Review: `input()`, `while` loops, conditional statements (`if` / `elif` / `else`).*\n",
    "\n",
    "You want to code a game for the users in the waiting room at your Real Estate agency to play!\n",
    "\n",
    "The game is a simple one - a guessing game!\n",
    "\n",
    "---\n",
    "\n",
    "1. The computer will think of a number randomly from 1 - 10.\n",
    "> *To start, choose a number for the computer to \"pick\", for example: The computer will select **4** each time.*\n",
    "\n",
    "\n",
    "2. The user will guess a number.\n",
    "\n",
    "\n",
    "3. If the user gets the number right, the game prints out \"You win!\".\n",
    "> *If not, the user is allowed to guess again.*\n",
    "\n",
    "---\n",
    "\n",
    "***Level Up***\n",
    "\n",
    "*Include a stipulation where the user is only allowed three guesses.*\n",
    "\n",
    "*If by the third guess the user is not correct, print \"Sorry, you lose!\" and terminate the program.*"
   ]
  },
  {
   "cell_type": "code",
   "execution_count": 14,
   "id": "dff47e8a",
   "metadata": {
    "ExecuteTime": {
     "end_time": "2022-05-18T21:35:10.967165Z",
     "start_time": "2022-05-18T21:35:06.884318Z"
    }
   },
   "outputs": [
    {
     "name": "stdout",
     "output_type": "stream",
     "text": [
      "Please enter your answer: this is my answer\n"
     ]
    }
   ],
   "source": [
    "my_variable = input('Please enter your answer: ')"
   ]
  },
  {
   "cell_type": "code",
   "execution_count": 15,
   "id": "74d12a92",
   "metadata": {
    "ExecuteTime": {
     "end_time": "2022-05-18T21:35:10.980514Z",
     "start_time": "2022-05-18T21:35:10.969508Z"
    }
   },
   "outputs": [
    {
     "data": {
      "text/plain": [
       "'this is my answer'"
      ]
     },
     "execution_count": 15,
     "metadata": {},
     "output_type": "execute_result"
    }
   ],
   "source": [
    "my_variable"
   ]
  },
  {
   "cell_type": "code",
   "execution_count": 16,
   "id": "780d39b0",
   "metadata": {
    "ExecuteTime": {
     "end_time": "2022-05-18T21:35:15.151903Z",
     "start_time": "2022-05-18T21:35:10.983471Z"
    }
   },
   "outputs": [
    {
     "name": "stdout",
     "output_type": "stream",
     "text": [
      "Guess a number: 2\n",
      "Guess again! 3\n",
      "Guess again! 4\n"
     ]
    },
    {
     "data": {
      "text/plain": [
       "'You win!'"
      ]
     },
     "execution_count": 16,
     "metadata": {},
     "output_type": "execute_result"
    }
   ],
   "source": [
    "def guessing_game():\n",
    "    #answer = random.random(0, 10)\n",
    "    answer = 4\n",
    "    guess = input('Guess a number: ')\n",
    "    while int(guess) != answer:\n",
    "        guess = input('Guess again! ')\n",
    "    return('You win!')\n",
    "\n",
    "guessing_game()"
   ]
  },
  {
   "cell_type": "code",
   "execution_count": 17,
   "id": "dd90f7db",
   "metadata": {
    "ExecuteTime": {
     "end_time": "2022-05-18T21:35:15.156707Z",
     "start_time": "2022-05-18T21:35:15.154426Z"
    }
   },
   "outputs": [],
   "source": [
    "# import random\n",
    "# my_variable = input('Input your variable')\n",
    "\n",
    "# # machine_variable = None\n",
    "# machine_variable = random.randint(1, 10)\n",
    "\n",
    "# while my_variable != machine_variable: # This will run forever!\n",
    "#     print ('Wrong number, try again') # This should be an `input()` call instead of `print()`\n",
    "# print('You win!')"
   ]
  },
  {
   "cell_type": "code",
   "execution_count": 18,
   "id": "1cf1f819",
   "metadata": {
    "ExecuteTime": {
     "end_time": "2022-05-18T21:35:18.296991Z",
     "start_time": "2022-05-18T21:35:15.158852Z"
    }
   },
   "outputs": [
    {
     "name": "stdout",
     "output_type": "stream",
     "text": [
      "Select a number between 1 and 10:2\n",
      "Select a number between 1 and 10:3\n",
      "Select a number between 1 and 10:4\n",
      "You win!\n"
     ]
    }
   ],
   "source": [
    "compnum = 4\n",
    "counter = 0\n",
    "\n",
    "while counter < 3:\n",
    "    usernum = input('Select a number between 1 and 10:')\n",
    "    if int(usernum) == compnum:\n",
    "        print(\"You win!\")\n",
    "        break\n",
    "    counter += 1\n",
    "    if counter == 3:\n",
    "        print('Sorry, you have exceeded the maximum number of guesses')\n",
    "#     continue"
   ]
  },
  {
   "cell_type": "code",
   "execution_count": null,
   "id": "f3e81acf",
   "metadata": {},
   "outputs": [],
   "source": []
  }
 ],
 "metadata": {
  "kernelspec": {
   "display_name": "Python 3",
   "language": "python",
   "name": "python3"
  },
  "language_info": {
   "codemirror_mode": {
    "name": "ipython",
    "version": 3
   },
   "file_extension": ".py",
   "mimetype": "text/x-python",
   "name": "python",
   "nbconvert_exporter": "python",
   "pygments_lexer": "ipython3",
   "version": "3.6.9"
  },
  "toc": {
   "base_numbering": 1,
   "nav_menu": {},
   "number_sections": false,
   "sideBar": true,
   "skip_h1_title": false,
   "title_cell": "Table of Contents",
   "title_sidebar": "Contents",
   "toc_cell": false,
   "toc_position": {
    "height": "calc(100% - 180px)",
    "left": "10px",
    "top": "150px",
    "width": "476px"
   },
   "toc_section_display": true,
   "toc_window_display": true
  }
 },
 "nbformat": 4,
 "nbformat_minor": 5
}
