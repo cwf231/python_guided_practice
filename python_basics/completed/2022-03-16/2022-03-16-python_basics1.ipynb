{
 "cells": [
  {
   "cell_type": "markdown",
   "id": "d2755236",
   "metadata": {},
   "source": [
    "# Python Basics: Challenge & Review"
   ]
  },
  {
   "cell_type": "markdown",
   "id": "ce53e183",
   "metadata": {},
   "source": [
    "## Challenge 1:\n",
    "\n",
    "> *Review: variables, data-types, simple math, conditional statements (`if` / `elif` / `else`).*\n",
    "\n",
    "You are working for a Real Estate agency and you want to help develop a calculator that will help home buyers. The tool you create will be embedded in the website for the customers to refer to.\n",
    "\n",
    "Your calculator should deal with two variables:\n",
    "1. **Price** of the house the customer wants to buy.\n",
    "2. **Whether or not** the customer has good credit.\n",
    "\n",
    "> ***Quiz!***\n",
    "> - *What **data types** will the above variables be?*\n",
    "\n",
    "---\n",
    "\n",
    "- The calculator should print out the **down-payment** the customers need to pay in order to buy their house.\n",
    "\n",
    "- Customers who have good credit need to put $5\\%$ down, while customers who do not have to put $20\\%$ down."
   ]
  },
  {
   "cell_type": "markdown",
   "id": "c1babec0",
   "metadata": {},
   "source": [
    "> *For a level-up, try writing this code in a function that accepts different parameters for these variables.*"
   ]
  },
  {
   "cell_type": "code",
   "execution_count": 3,
   "id": "a60e6fb8",
   "metadata": {
    "ExecuteTime": {
     "end_time": "2022-03-16T22:13:48.721238Z",
     "start_time": "2022-03-16T22:13:48.718800Z"
    }
   },
   "outputs": [],
   "source": [
    "price = 100_000\n",
    "has_good_credit = True"
   ]
  },
  {
   "cell_type": "code",
   "execution_count": 4,
   "id": "00009232",
   "metadata": {
    "ExecuteTime": {
     "end_time": "2022-03-16T22:19:58.585652Z",
     "start_time": "2022-03-16T22:19:58.581680Z"
    }
   },
   "outputs": [
    {
     "name": "stdout",
     "output_type": "stream",
     "text": [
      "The client needs to put down $5000.0.\n"
     ]
    }
   ],
   "source": [
    "if has_good_credit:\n",
    "    down_payment = price * 0.05\n",
    "else: # elif not has_good_credit:\n",
    "    down_payment = price * 0.2\n",
    "print(f'The client needs to put down ${down_payment}.')"
   ]
  },
  {
   "cell_type": "code",
   "execution_count": 5,
   "id": "d30c6f6d",
   "metadata": {
    "ExecuteTime": {
     "end_time": "2022-03-16T22:23:44.170051Z",
     "start_time": "2022-03-16T22:23:44.165568Z"
    }
   },
   "outputs": [],
   "source": [
    "def calculator(house_price, has_good_credit):\n",
    "    \n",
    "    if has_good_credit:\n",
    "        down_payment = house_price * 0.05\n",
    "    else:\n",
    "        down_payment = house_price * 0.2\n",
    "    return down_payment"
   ]
  },
  {
   "cell_type": "code",
   "execution_count": 8,
   "id": "2c0019e0",
   "metadata": {
    "ExecuteTime": {
     "end_time": "2022-03-16T22:27:56.066406Z",
     "start_time": "2022-03-16T22:27:56.062706Z"
    }
   },
   "outputs": [
    {
     "name": "stdout",
     "output_type": "stream",
     "text": [
      "17500.0\n"
     ]
    }
   ],
   "source": [
    "dp = calculator(350_000, True)\n",
    "print(dp)"
   ]
  },
  {
   "cell_type": "code",
   "execution_count": 9,
   "id": "45188a85",
   "metadata": {
    "ExecuteTime": {
     "end_time": "2022-03-16T22:28:28.196565Z",
     "start_time": "2022-03-16T22:28:28.187565Z"
    }
   },
   "outputs": [
    {
     "data": {
      "text/plain": [
       "200000.0"
      ]
     },
     "execution_count": 9,
     "metadata": {},
     "output_type": "execute_result"
    }
   ],
   "source": [
    "calculator(1_000_000, False)"
   ]
  },
  {
   "cell_type": "markdown",
   "id": "2f48dd55",
   "metadata": {},
   "source": [
    "# Challenge 2:\n",
    "\n",
    "*Review: `input()`, `while` loops, conditional statements (`if` / `elif` / `else`).*\n",
    "\n",
    "You want to code a game for the users in the waiting room at your Real Estate agency to play!\n",
    "\n",
    "The game is a simple one - a guessing game!\n",
    "\n",
    "---\n",
    "\n",
    "1. The computer will think of a number randomly from 1 - 10.\n",
    "> *To start, choose a number for the computer to \"pick\", for example: The computer will select **4** each time.*\n",
    "\n",
    "\n",
    "2. The user will guess a number.\n",
    "\n",
    "\n",
    "3. If the user gets the number right, the game prints out \"You win!\".\n",
    "> *If not, the user is allowed to guess again.*\n",
    "\n",
    "---\n",
    "\n",
    "***Level Up***\n",
    "\n",
    "*Include a stipulation where the user is only allowed three guesses.*\n",
    "\n",
    "*If by the third guess the user is not correct, print \"Sorry, you lose!\" and terminate the program.*"
   ]
  },
  {
   "cell_type": "code",
   "execution_count": 23,
   "id": "5f3ad31b",
   "metadata": {
    "ExecuteTime": {
     "end_time": "2022-03-16T22:54:53.806587Z",
     "start_time": "2022-03-16T22:54:53.551540Z"
    }
   },
   "outputs": [],
   "source": [
    "import numpy as np"
   ]
  },
  {
   "cell_type": "code",
   "execution_count": 24,
   "id": "37a9acf0",
   "metadata": {
    "ExecuteTime": {
     "end_time": "2022-03-16T22:55:55.850275Z",
     "start_time": "2022-03-16T22:55:55.845597Z"
    }
   },
   "outputs": [
    {
     "name": "stdout",
     "output_type": "stream",
     "text": [
      "5\n",
      "9\n",
      "5\n",
      "2\n",
      "3\n",
      "1\n",
      "6\n",
      "3\n",
      "6\n",
      "1\n"
     ]
    }
   ],
   "source": [
    "for _ in range(10):\n",
    "    print(np.random.choice(range(1, 10+1)))"
   ]
  },
  {
   "cell_type": "code",
   "execution_count": 26,
   "id": "fb5397d0",
   "metadata": {
    "ExecuteTime": {
     "end_time": "2022-03-16T22:58:17.683961Z",
     "start_time": "2022-03-16T22:57:35.969547Z"
    }
   },
   "outputs": [
    {
     "name": "stdout",
     "output_type": "stream",
     "text": [
      "Please select a number: 8\n",
      "Please guess again.\n",
      "Please select a number: 3\n",
      "Please guess again.\n",
      "Please select a number: 1\n",
      "You stink! No more guesses.\n",
      "The number was obviously 7\n"
     ]
    }
   ],
   "source": [
    "# Set \"hidden\" number.\n",
    "computer_num = np.random.choice(range(1, 10+1))\n",
    "input_num = -1\n",
    "guessed_num = 0\n",
    "\n",
    "while input_num != computer_num:\n",
    "    # Take in input.\n",
    "    input_num = int(input('Please select a number: '))\n",
    "    guessed_num += 1 # guessed_num = guessed_num + 1\n",
    "\n",
    "    # Compare the numbers.\n",
    "    if input_num == computer_num:\n",
    "        print(\"congratulations you WON!\")\n",
    "    else:\n",
    "        # Check if we've gotten it right.\n",
    "        if guessed_num == 3:\n",
    "            print('You stink! No more guesses.')\n",
    "            print('The number was obviously', computer_num)\n",
    "            break\n",
    "            \n",
    "        print('Please guess again.')"
   ]
  },
  {
   "cell_type": "code",
   "execution_count": 22,
   "id": "1c7b54ce",
   "metadata": {
    "ExecuteTime": {
     "end_time": "2022-03-16T22:53:36.458635Z",
     "start_time": "2022-03-16T22:53:34.363880Z"
    }
   },
   "outputs": [
    {
     "name": "stdout",
     "output_type": "stream",
     "text": [
      "Please select a number: 1\n",
      "Please guess again.\n",
      "Please select a number: 1\n",
      "Please guess again.\n",
      "Please select a number: 1\n",
      "You stink.\n"
     ]
    }
   ],
   "source": [
    "# Set \"hidden\" number.\n",
    "computer_num = 4 # TODO: Make random.\n",
    "counter = 0\n",
    "\n",
    "while counter < 3:\n",
    "    # Take in input.\n",
    "    input_num = int(input('Please select a number: '))\n",
    "    counter += 1\n",
    "\n",
    "    # Compare the numbers.\n",
    "    if input_num == computer_num:\n",
    "        print(\"congratulations you WON!\")\n",
    "        break\n",
    "    else:\n",
    "        if counter == 3:\n",
    "            print('You stink.')\n",
    "        else:\n",
    "            print('Please guess again.')"
   ]
  },
  {
   "cell_type": "code",
   "execution_count": null,
   "id": "f459604e",
   "metadata": {},
   "outputs": [],
   "source": []
  }
 ],
 "metadata": {
  "kernelspec": {
   "display_name": "Python 3",
   "language": "python",
   "name": "python3"
  },
  "language_info": {
   "codemirror_mode": {
    "name": "ipython",
    "version": 3
   },
   "file_extension": ".py",
   "mimetype": "text/x-python",
   "name": "python",
   "nbconvert_exporter": "python",
   "pygments_lexer": "ipython3",
   "version": "3.6.9"
  },
  "toc": {
   "base_numbering": 1,
   "nav_menu": {},
   "number_sections": false,
   "sideBar": true,
   "skip_h1_title": false,
   "title_cell": "Table of Contents",
   "title_sidebar": "Contents",
   "toc_cell": false,
   "toc_position": {
    "height": "calc(100% - 180px)",
    "left": "10px",
    "top": "150px",
    "width": "317px"
   },
   "toc_section_display": true,
   "toc_window_display": true
  }
 },
 "nbformat": 4,
 "nbformat_minor": 5
}
