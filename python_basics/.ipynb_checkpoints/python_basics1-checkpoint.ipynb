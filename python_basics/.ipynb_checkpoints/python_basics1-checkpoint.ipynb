{
 "cells": [
  {
   "cell_type": "markdown",
   "id": "932e1d9b",
   "metadata": {},
   "source": [
    "# Python Basics: Challenge & Review"
   ]
  },
  {
   "cell_type": "markdown",
   "id": "70f62f17",
   "metadata": {},
   "source": [
    "## Challenge 1:\n",
    "\n",
    "> *Review: variables, data-types, simple math, conditional statements (`if` / `elif` / `else`).*\n",
    "\n",
    "You are working for a Real Estate agency and you want to help develop a calculator that will help home buyers. The tool you create will be embedded in the website for the customers to refer to.\n",
    "\n",
    "Your calculator should deal with two variables:\n",
    "1. **Price** of the house the customer wants to buy.\n",
    "2. **Whether or not** the customer has good credit.\n",
    "\n",
    "> ***Quiz!***\n",
    "> - *What **data types** will the above variables be?*\n",
    "\n",
    "---\n",
    "\n",
    "- The calculator should print out the **down-payment** the customers need to pay in order to buy their house.\n",
    "\n",
    "- Customers who have good credit need to put $5\\%$ down, while customers who do not have to put $20\\%$ down."
   ]
  },
  {
   "cell_type": "markdown",
   "id": "4f50ac97",
   "metadata": {},
   "source": [
    "> *For a level-up, try writing this code in a function that accepts different parameters for these variables.*"
   ]
  },
  {
   "cell_type": "code",
   "execution_count": null,
   "id": "9a6972aa",
   "metadata": {},
   "outputs": [],
   "source": []
  },
  {
   "cell_type": "code",
   "execution_count": null,
   "id": "358d5ff3",
   "metadata": {},
   "outputs": [],
   "source": []
  },
  {
   "cell_type": "code",
   "execution_count": null,
   "id": "85b60e8b",
   "metadata": {},
   "outputs": [],
   "source": []
  },
  {
   "cell_type": "markdown",
   "id": "57f16dfd",
   "metadata": {},
   "source": [
    "# Challenge 2:\n",
    "\n",
    "*Review: `input()`, `while` loops, conditional statements (`if` / `elif` / `else`).*\n",
    "\n",
    "You want to code a game for the users in the waiting room at your Real Estate agency to play!\n",
    "\n",
    "The game is a simple one - a guessing game!\n",
    "\n",
    "---\n",
    "\n",
    "The computer will think of a number randomly from 1 - 10.\n",
    "\n",
    "The user will have three guesses to guess the number right.\n",
    "\n",
    "If the user gets the number right, the game prints out \"You win!\".\n",
    "\n",
    "If the user spends 3 guesses and they are all wrong, print \"Sorry, try again!\""
   ]
  },
  {
   "cell_type": "code",
   "execution_count": null,
   "id": "cdd522b9",
   "metadata": {},
   "outputs": [],
   "source": []
  },
  {
   "cell_type": "code",
   "execution_count": null,
   "id": "ad38a6bd",
   "metadata": {},
   "outputs": [],
   "source": []
  },
  {
   "cell_type": "code",
   "execution_count": null,
   "id": "c5ef0a9d",
   "metadata": {},
   "outputs": [],
   "source": []
  }
 ],
 "metadata": {
  "kernelspec": {
   "display_name": "Python [conda env:learn-env] *",
   "language": "python",
   "name": "conda-env-learn-env-py"
  },
  "language_info": {
   "codemirror_mode": {
    "name": "ipython",
    "version": 3
   },
   "file_extension": ".py",
   "mimetype": "text/x-python",
   "name": "python",
   "nbconvert_exporter": "python",
   "pygments_lexer": "ipython3",
   "version": "3.6.9"
  },
  "toc": {
   "base_numbering": 1,
   "nav_menu": {},
   "number_sections": false,
   "sideBar": true,
   "skip_h1_title": false,
   "title_cell": "Table of Contents",
   "title_sidebar": "Contents",
   "toc_cell": false,
   "toc_position": {},
   "toc_section_display": true,
   "toc_window_display": false
  }
 },
 "nbformat": 4,
 "nbformat_minor": 5
}
