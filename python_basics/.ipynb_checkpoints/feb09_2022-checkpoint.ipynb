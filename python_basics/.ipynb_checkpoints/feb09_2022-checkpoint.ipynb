{
 "cells": [
  {
   "cell_type": "markdown",
   "id": "8b984959",
   "metadata": {},
   "source": [
    "# Python Basics: Challenge & Review"
   ]
  },
  {
   "cell_type": "markdown",
   "id": "ae6e466a",
   "metadata": {},
   "source": [
    "## Challenge 1:\n",
    "\n",
    "> *Review: variables, data-types, simple math, conditional statements (`if` / `elif` / `else`).*\n",
    "\n",
    "You are working for a Real Estate agency and you want to help develop a calculator that will help home buyers. The tool you create will be embedded in the website for the customers to refer to.\n",
    "\n",
    "Your calculator should deal with two variables:\n",
    "1. **Price** of the house the customer wants to buy.\n",
    "2. **Whether or not** the customer has good credit.\n",
    "\n",
    "> ***Quiz!***\n",
    "> - *What **data types** will the above variables be?*\n",
    "\n",
    "---\n",
    "\n",
    "- The calculator should print out the **down-payment** the customers need to pay in order to buy their house.\n",
    "\n",
    "- Customers who have good credit need to put $5\\%$ down, while customers who do not have to put $20\\%$ down."
   ]
  },
  {
   "cell_type": "markdown",
   "id": "74ecb69d",
   "metadata": {},
   "source": [
    "> *For a level-up, try writing this code in a function that accepts different parameters for these variables.*"
   ]
  },
  {
   "cell_type": "code",
   "execution_count": 1,
   "id": "4b0df610",
   "metadata": {
    "ExecuteTime": {
     "end_time": "2022-02-10T00:21:07.738990Z",
     "start_time": "2022-02-10T00:21:07.730313Z"
    }
   },
   "outputs": [],
   "source": [
    "price = 350_000\n",
    "good_credit = True"
   ]
  },
  {
   "cell_type": "markdown",
   "id": "f609c2a5",
   "metadata": {},
   "source": [
    "STRING: Truth: `'asdf'`, False: `''`\n",
    "\n",
    "INT: Truth: `17234`, False: `0`"
   ]
  },
  {
   "cell_type": "code",
   "execution_count": 13,
   "id": "3721fb2f",
   "metadata": {
    "ExecuteTime": {
     "end_time": "2022-02-10T00:26:03.331200Z",
     "start_time": "2022-02-10T00:26:03.328172Z"
    }
   },
   "outputs": [
    {
     "name": "stdout",
     "output_type": "stream",
     "text": [
      "It's true\n"
     ]
    }
   ],
   "source": [
    "# if 13572457:\n",
    "#     print(\"It's true\")\n",
    "# else:\n",
    "#     print('Not True')"
   ]
  },
  {
   "cell_type": "code",
   "execution_count": 17,
   "id": "44cba11e",
   "metadata": {
    "ExecuteTime": {
     "end_time": "2022-02-10T00:27:25.822693Z",
     "start_time": "2022-02-10T00:27:25.819575Z"
    }
   },
   "outputs": [
    {
     "name": "stdout",
     "output_type": "stream",
     "text": [
      "Not True\n"
     ]
    }
   ],
   "source": [
    "# if '':\n",
    "#     print(\"It's true\")\n",
    "# else:\n",
    "#     print('Not True')"
   ]
  },
  {
   "cell_type": "code",
   "execution_count": 6,
   "id": "899a888b",
   "metadata": {
    "ExecuteTime": {
     "end_time": "2022-02-10T00:24:35.110563Z",
     "start_time": "2022-02-10T00:24:35.107745Z"
    }
   },
   "outputs": [
    {
     "name": "stdout",
     "output_type": "stream",
     "text": [
      "YES\n"
     ]
    }
   ],
   "source": [
    "# if 'asdf':\n",
    "#     print('YES')"
   ]
  },
  {
   "cell_type": "code",
   "execution_count": 3,
   "id": "57426df6",
   "metadata": {
    "ExecuteTime": {
     "end_time": "2022-02-10T00:22:23.285966Z",
     "start_time": "2022-02-10T00:22:23.283065Z"
    }
   },
   "outputs": [
    {
     "name": "stdout",
     "output_type": "stream",
     "text": [
      "Yes!\n"
     ]
    }
   ],
   "source": [
    "if good_credit:\n",
    "    print('Yes!')"
   ]
  },
  {
   "cell_type": "code",
   "execution_count": 20,
   "id": "aaeaac0b",
   "metadata": {
    "ExecuteTime": {
     "end_time": "2022-02-10T00:28:41.344071Z",
     "start_time": "2022-02-10T00:28:41.340073Z"
    }
   },
   "outputs": [
    {
     "name": "stdout",
     "output_type": "stream",
     "text": [
      "Downpayment is: 17500.0\n"
     ]
    }
   ],
   "source": [
    "if good_credit:\n",
    "    print('Downpayment is:', price*.05)\n",
    "else:\n",
    "    print('Downpayment is:', price*.2)"
   ]
  },
  {
   "cell_type": "code",
   "execution_count": 23,
   "id": "c636e574",
   "metadata": {
    "ExecuteTime": {
     "end_time": "2022-02-10T00:31:03.227328Z",
     "start_time": "2022-02-10T00:31:03.224567Z"
    }
   },
   "outputs": [],
   "source": [
    "def calculator(price, good_credit):\n",
    "    if good_credit:\n",
    "        return f'Downpayment is: {price*.05}'\n",
    "    return f'Downpayment is: {price*.05}'"
   ]
  },
  {
   "cell_type": "code",
   "execution_count": 24,
   "id": "b64419e5",
   "metadata": {
    "ExecuteTime": {
     "end_time": "2022-02-10T00:31:03.597865Z",
     "start_time": "2022-02-10T00:31:03.592767Z"
    }
   },
   "outputs": [
    {
     "data": {
      "text/plain": [
       "'Downpayment is: 17500.0'"
      ]
     },
     "execution_count": 24,
     "metadata": {},
     "output_type": "execute_result"
    }
   ],
   "source": [
    "calculator(price, good_credit)"
   ]
  },
  {
   "cell_type": "markdown",
   "id": "ae663302",
   "metadata": {},
   "source": [
    "## Challenge 2:\n",
    "\n",
    "*Review: `input()`, `while` loops, conditional statements (`if` / `elif` / `else`).*\n",
    "\n",
    "You want to code a game for the users in the waiting room at your Real Estate agency to play!\n",
    "\n",
    "The game is a simple one - a guessing game!\n",
    "\n",
    "---\n",
    "\n",
    "The computer will think of a number \"randomly\" (always pick \"4\").\n",
    "\n",
    "The user will have three guesses to guess the number right.\n",
    "\n",
    "If the user gets the number right, the game prints out \"You win!\".\n",
    "\n",
    "If the user spends 3 guesses and they are all wrong, print \"Sorry, try again!\""
   ]
  },
  {
   "cell_type": "code",
   "execution_count": 35,
   "id": "fc7ae1b4",
   "metadata": {
    "ExecuteTime": {
     "end_time": "2022-02-10T00:48:12.166293Z",
     "start_time": "2022-02-10T00:48:12.162251Z"
    }
   },
   "outputs": [
    {
     "data": {
      "text/plain": [
       "(str, int)"
      ]
     },
     "execution_count": 35,
     "metadata": {},
     "output_type": "execute_result"
    }
   ],
   "source": [
    "type(guess), type(computer_number)"
   ]
  },
  {
   "cell_type": "code",
   "execution_count": 41,
   "id": "dbe4ca2c",
   "metadata": {
    "ExecuteTime": {
     "end_time": "2022-02-10T00:52:54.502290Z",
     "start_time": "2022-02-10T00:52:52.954557Z"
    }
   },
   "outputs": [
    {
     "name": "stdout",
     "output_type": "stream",
     "text": [
      "Please guess a number!1\n",
      "Please guess a number!1\n",
      "Please guess a number!1\n",
      "Sorry, you lose!\n"
     ]
    }
   ],
   "source": [
    "computer_number = 4\n",
    "counter = 0\n",
    "\n",
    "while True:\n",
    "    guess = input('Please guess a number!')\n",
    "    if int(guess) == computer_number:\n",
    "        print('You win and are the greatest!')\n",
    "        print(\"I'm done!\")\n",
    "        break\n",
    "    counter += 1\n",
    "    if counter >= 3:\n",
    "        print('Sorry, you lose!')\n",
    "        break\n",
    "\n",
    "# print(\"I'm done!\")"
   ]
  }
 ],
 "metadata": {
  "kernelspec": {
   "display_name": "Python 3",
   "language": "python",
   "name": "python3"
  },
  "language_info": {
   "codemirror_mode": {
    "name": "ipython",
    "version": 3
   },
   "file_extension": ".py",
   "mimetype": "text/x-python",
   "name": "python",
   "nbconvert_exporter": "python",
   "pygments_lexer": "ipython3",
   "version": "3.6.9"
  },
  "toc": {
   "base_numbering": 1,
   "nav_menu": {},
   "number_sections": false,
   "sideBar": true,
   "skip_h1_title": false,
   "title_cell": "Table of Contents",
   "title_sidebar": "Contents",
   "toc_cell": false,
   "toc_position": {
    "height": "calc(100% - 180px)",
    "left": "10px",
    "top": "150px",
    "width": "165px"
   },
   "toc_section_display": true,
   "toc_window_display": true
  }
 },
 "nbformat": 4,
 "nbformat_minor": 5
}
