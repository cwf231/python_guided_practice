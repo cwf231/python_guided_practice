{
 "cells": [
  {
   "cell_type": "markdown",
   "id": "1d2b82b1",
   "metadata": {},
   "source": [
    "# Python Basics: Challenge & Review"
   ]
  },
  {
   "cell_type": "markdown",
   "id": "46a40d30",
   "metadata": {},
   "source": [
    "## Challenge 1:\n",
    "\n",
    "> *Review: variables, data-types, simple math, conditional statements (`if` / `elif` / `else`).*\n",
    "\n",
    "You are working for a Real Estate agency and you want to help develop a calculator that will help home buyers. The tool you create will be embedded in the website for the customers to refer to.\n",
    "\n",
    "Your calculator should deal with two variables:\n",
    "1. **Price** of the house the customer wants to buy.\n",
    "2. **Whether or not** the customer has good credit.\n",
    "\n",
    "> ***Quiz!***\n",
    "> - *What **data types** will the above variables be?*\n",
    "\n",
    "---\n",
    "\n",
    "- The calculator should print out the **down-payment** the customers need to pay in order to buy their house.\n",
    "\n",
    "- Customers who have good credit need to put $5\\%$ down, while customers who do not have to put $20\\%$ down."
   ]
  },
  {
   "cell_type": "markdown",
   "id": "07f6a9a1",
   "metadata": {},
   "source": [
    "> *For a level-up, try writing this code in a function that accepts different parameters for these variables.*"
   ]
  },
  {
   "cell_type": "code",
   "execution_count": 3,
   "id": "815fa056",
   "metadata": {
    "ExecuteTime": {
     "end_time": "2022-03-23T20:15:54.023648Z",
     "start_time": "2022-03-23T20:15:54.021193Z"
    }
   },
   "outputs": [],
   "source": [
    "price = 300_000\n",
    "has_good_credit = True"
   ]
  },
  {
   "cell_type": "code",
   "execution_count": 4,
   "id": "85dda4ff",
   "metadata": {
    "ExecuteTime": {
     "end_time": "2022-03-23T20:20:14.960641Z",
     "start_time": "2022-03-23T20:20:14.956881Z"
    }
   },
   "outputs": [
    {
     "name": "stdout",
     "output_type": "stream",
     "text": [
      "15000.0\n"
     ]
    }
   ],
   "source": [
    "if has_good_credit:\n",
    "    print(price * .05)\n",
    "else:\n",
    "    print(price * .2)"
   ]
  },
  {
   "cell_type": "code",
   "execution_count": null,
   "id": "b0982b21",
   "metadata": {},
   "outputs": [],
   "source": [
    "# if has_good_credit:\n",
    "#     print(price * .05)\n",
    "# elif not has_good_credit:\n",
    "#     print(price * .2)"
   ]
  },
  {
   "cell_type": "code",
   "execution_count": 15,
   "id": "23952909",
   "metadata": {
    "ExecuteTime": {
     "end_time": "2022-03-23T20:32:57.995410Z",
     "start_time": "2022-03-23T20:32:57.992592Z"
    }
   },
   "outputs": [],
   "source": [
    "def down_payment(home_price, has_good_credit):\n",
    "    \n",
    "    if has_good_credit:\n",
    "        return home_price * 0.05\n",
    "    else:\n",
    "        return home_price * 0.2"
   ]
  },
  {
   "cell_type": "code",
   "execution_count": 16,
   "id": "c8ebb072",
   "metadata": {
    "ExecuteTime": {
     "end_time": "2022-03-23T20:33:00.263884Z",
     "start_time": "2022-03-23T20:33:00.261150Z"
    }
   },
   "outputs": [],
   "source": [
    "my_downpayment = down_payment(10_000, False)"
   ]
  },
  {
   "cell_type": "code",
   "execution_count": 17,
   "id": "55bbaa99",
   "metadata": {
    "ExecuteTime": {
     "end_time": "2022-03-23T20:33:09.858013Z",
     "start_time": "2022-03-23T20:33:09.854848Z"
    }
   },
   "outputs": [
    {
     "name": "stdout",
     "output_type": "stream",
     "text": [
      "2000.0\n"
     ]
    }
   ],
   "source": [
    "print(my_downpayment)"
   ]
  },
  {
   "cell_type": "code",
   "execution_count": null,
   "id": "20ecfba5",
   "metadata": {},
   "outputs": [],
   "source": [
    "None"
   ]
  },
  {
   "cell_type": "markdown",
   "id": "74d1a15a",
   "metadata": {},
   "source": [
    "## Challenge 2:\n",
    "\n",
    "*Review: `input()`, `while` loops, conditional statements (`if` / `elif` / `else`).*\n",
    "\n",
    "You want to code a game for the users in the waiting room at your Real Estate agency to play!\n",
    "\n",
    "The game is a simple one - a guessing game!\n",
    "\n",
    "---\n",
    "\n",
    "1. The computer will think of a number randomly from 1 - 10.\n",
    "> *To start, choose a number for the computer to \"pick\", for example: The computer will select **4** each time.*\n",
    "\n",
    "\n",
    "2. The user will guess a number.\n",
    "\n",
    "\n",
    "3. If the user gets the number right, the game prints out \"You win!\".\n",
    "> *If not, the user is allowed to guess again.*\n",
    "\n",
    "---\n",
    "\n",
    "***Level Up***\n",
    "\n",
    "*Include a stipulation where the user is only allowed three guesses.*\n",
    "\n",
    "*If by the third guess the user is not correct, print \"Sorry, you lose!\" and terminate the program.*"
   ]
  },
  {
   "cell_type": "code",
   "execution_count": 20,
   "id": "8669bd00",
   "metadata": {
    "ExecuteTime": {
     "end_time": "2022-03-23T20:36:23.916352Z",
     "start_time": "2022-03-23T20:36:20.848087Z"
    }
   },
   "outputs": [
    {
     "name": "stdout",
     "output_type": "stream",
     "text": [
      "What is the answer? 42\n"
     ]
    }
   ],
   "source": [
    "my_answer = input('What is the answer? ')"
   ]
  },
  {
   "cell_type": "code",
   "execution_count": 21,
   "id": "7bde333f",
   "metadata": {
    "ExecuteTime": {
     "end_time": "2022-03-23T20:36:28.841380Z",
     "start_time": "2022-03-23T20:36:28.838553Z"
    }
   },
   "outputs": [
    {
     "name": "stdout",
     "output_type": "stream",
     "text": [
      "42\n"
     ]
    }
   ],
   "source": [
    "print(my_answer)"
   ]
  },
  {
   "cell_type": "code",
   "execution_count": 35,
   "id": "3b323b23",
   "metadata": {
    "ExecuteTime": {
     "end_time": "2022-03-23T20:57:45.946196Z",
     "start_time": "2022-03-23T20:57:45.771243Z"
    }
   },
   "outputs": [],
   "source": [
    "import numpy as np"
   ]
  },
  {
   "cell_type": "code",
   "execution_count": 36,
   "id": "983b8334",
   "metadata": {
    "ExecuteTime": {
     "end_time": "2022-03-23T20:58:55.601187Z",
     "start_time": "2022-03-23T20:58:29.751838Z"
    }
   },
   "outputs": [
    {
     "name": "stdout",
     "output_type": "stream",
     "text": [
      "What is your guess? 3\n",
      "Sorry, wrong answer! Guess again!\n",
      "What is your guess? 7\n",
      "You win!\n"
     ]
    }
   ],
   "source": [
    "# Computer chooses a number for us to guess!\n",
    "computer = np.random.choice(range(1, 11))\n",
    "counter = 0\n",
    "\n",
    "while counter < 3:\n",
    "    # Prompt for a guess from User.\n",
    "    contestant_guess = int(input('What is your guess? '))\n",
    "    # print(type(contestant_guess))\n",
    "\n",
    "    # Check if User is right.\n",
    "    if contestant_guess == computer:\n",
    "        print('You win!')\n",
    "        break\n",
    "    elif contestant_guess != computer:\n",
    "        if counter < 2:\n",
    "            print('Sorry, wrong answer! Guess again!')\n",
    "        else:\n",
    "            print('Sorry, you lose!')\n",
    "    \n",
    "    counter += 1"
   ]
  },
  {
   "cell_type": "code",
   "execution_count": null,
   "id": "69065a52",
   "metadata": {},
   "outputs": [],
   "source": []
  },
  {
   "cell_type": "code",
   "execution_count": null,
   "id": "609581a0",
   "metadata": {},
   "outputs": [],
   "source": []
  },
  {
   "cell_type": "code",
   "execution_count": null,
   "id": "61b6d876",
   "metadata": {},
   "outputs": [],
   "source": []
  }
 ],
 "metadata": {
  "kernelspec": {
   "display_name": "Python 3",
   "language": "python",
   "name": "python3"
  },
  "language_info": {
   "codemirror_mode": {
    "name": "ipython",
    "version": 3
   },
   "file_extension": ".py",
   "mimetype": "text/x-python",
   "name": "python",
   "nbconvert_exporter": "python",
   "pygments_lexer": "ipython3",
   "version": "3.6.9"
  },
  "toc": {
   "base_numbering": 1,
   "nav_menu": {},
   "number_sections": false,
   "sideBar": true,
   "skip_h1_title": false,
   "title_cell": "Table of Contents",
   "title_sidebar": "Contents",
   "toc_cell": false,
   "toc_position": {},
   "toc_section_display": true,
   "toc_window_display": true
  }
 },
 "nbformat": 4,
 "nbformat_minor": 5
}
