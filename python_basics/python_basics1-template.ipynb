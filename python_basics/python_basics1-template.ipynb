{
 "cells": [
  {
   "cell_type": "markdown",
   "id": "aba276c0",
   "metadata": {},
   "source": [
    "# Python Basics: Challenge & Review"
   ]
  },
  {
   "cell_type": "markdown",
   "id": "c43027b7",
   "metadata": {},
   "source": [
    "## Challenge 1:\n",
    "\n",
    "> *Review: variables, data-types, simple math, conditional statements (`if` / `elif` / `else`).*\n",
    "\n",
    "You are working for a Real Estate agency and you want to help develop a calculator that will help home buyers. The tool you create will be embedded in the website for the customers to refer to.\n",
    "\n",
    "Your calculator should deal with two variables:\n",
    "1. **Price** of the house the customer wants to buy.\n",
    "2. **Whether or not** the customer has good credit.\n",
    "\n",
    "> ***Quiz!***\n",
    "> - *What **data types** will the above variables be?*\n",
    "\n",
    "---\n",
    "\n",
    "- The calculator should print out the **down-payment** the customers need to pay in order to buy their house.\n",
    "\n",
    "- Customers who have good credit need to put $5\\%$ down, while customers who do not have to put $20\\%$ down."
   ]
  },
  {
   "cell_type": "markdown",
   "id": "d5b59550",
   "metadata": {},
   "source": [
    "> *For a level-up, try writing this code in a function that accepts different parameters for these variables.*"
   ]
  },
  {
   "cell_type": "code",
   "execution_count": null,
   "id": "b1b141e9",
   "metadata": {
    "ExecuteTime": {
     "end_time": "2022-01-13T00:18:44.916480Z",
     "start_time": "2022-01-13T00:18:44.906609Z"
    }
   },
   "outputs": [],
   "source": []
  },
  {
   "cell_type": "code",
   "execution_count": null,
   "id": "ef8ece9a",
   "metadata": {},
   "outputs": [],
   "source": []
  },
  {
   "cell_type": "code",
   "execution_count": null,
   "id": "b96438c7",
   "metadata": {},
   "outputs": [],
   "source": []
  },
  {
   "cell_type": "markdown",
   "id": "669260d5",
   "metadata": {},
   "source": [
    "# Challenge 2:\n",
    "\n",
    "*Review: `input()`, `while` loops, conditional statements (`if` / `elif` / `else`).*\n",
    "\n",
    "You want to code a game for the users in the waiting room at your Real Estate agency to play!\n",
    "\n",
    "The game is a simple one - a guessing game!\n",
    "\n",
    "---\n",
    "\n",
    "1. The computer will think of a number randomly from 1 - 10.\n",
    "> *To start, choose a number for the computer to \"pick\", for example: The computer will select **4** each time.*\n",
    "\n",
    "\n",
    "2. The user will guess a number.\n",
    "\n",
    "\n",
    "3. If the user gets the number right, the game prints out \"You win!\".\n",
    "> *If not, the user is allowed to guess again.*\n",
    "\n",
    "---\n",
    "\n",
    "***Level Up***\n",
    "\n",
    "*Include a stipulation where the user is only allowed three guesses.*\n",
    "\n",
    "*If by the third guess the user is not correct, print \"Sorry, you lose!\" and terminate the program.*"
   ]
  },
  {
   "cell_type": "code",
   "execution_count": null,
   "id": "3501ab2f",
   "metadata": {},
   "outputs": [],
   "source": []
  },
  {
   "cell_type": "code",
   "execution_count": null,
   "id": "cf2490e9",
   "metadata": {},
   "outputs": [],
   "source": []
  },
  {
   "cell_type": "code",
   "execution_count": null,
   "id": "917c144e",
   "metadata": {},
   "outputs": [],
   "source": []
  }
 ],
 "metadata": {
  "kernelspec": {
   "display_name": "Python 3",
   "language": "python",
   "name": "python3"
  },
  "language_info": {
   "codemirror_mode": {
    "name": "ipython",
    "version": 3
   },
   "file_extension": ".py",
   "mimetype": "text/x-python",
   "name": "python",
   "nbconvert_exporter": "python",
   "pygments_lexer": "ipython3",
   "version": "3.6.9"
  },
  "toc": {
   "base_numbering": 1,
   "nav_menu": {},
   "number_sections": false,
   "sideBar": true,
   "skip_h1_title": false,
   "title_cell": "Table of Contents",
   "title_sidebar": "Contents",
   "toc_cell": false,
   "toc_position": {},
   "toc_section_display": true,
   "toc_window_display": false
  }
 },
 "nbformat": 4,
 "nbformat_minor": 5
}
